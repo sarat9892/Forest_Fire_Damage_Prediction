{
 "cells": [
  {
   "cell_type": "code",
   "execution_count": 1,
   "id": "medieval-albany",
   "metadata": {},
   "outputs": [],
   "source": [
    "%config Completer.use_jedi = False"
   ]
  },
  {
   "cell_type": "markdown",
   "id": "convinced-acrobat",
   "metadata": {},
   "source": [
    "### Importing libraries"
   ]
  },
  {
   "cell_type": "code",
   "execution_count": 68,
   "id": "collective-secondary",
   "metadata": {},
   "outputs": [],
   "source": [
    "import pandas as pd\n",
    "import matplotlib.pyplot as plt\n",
    "import numpy as np\n",
    "\n",
    "\n",
    "from sklearn.feature_selection import RFE, SelectFromModel, SequentialFeatureSelector\n",
    "from sklearn.linear_model import LinearRegression\n",
    "\n",
    "from sklearn.model_selection import train_test_split\n",
    "from sklearn.preprocessing import PowerTransformer\n",
    "\n",
    "from sklearn.metrics import make_scorer, r2_score, mean_squared_error\n",
    "from sklearn import metrics\n",
    "\n"
   ]
  },
  {
   "cell_type": "markdown",
   "id": "parliamentary-copyright",
   "metadata": {},
   "source": [
    "### Loading the data"
   ]
  },
  {
   "cell_type": "code",
   "execution_count": 3,
   "id": "responsible-population",
   "metadata": {},
   "outputs": [],
   "source": [
    "rawData = pd.read_csv('./data/forestfires.csv')"
   ]
  },
  {
   "cell_type": "markdown",
   "id": "coupled-giant",
   "metadata": {},
   "source": [
    "### Exploratory Analysis"
   ]
  },
  {
   "cell_type": "markdown",
   "id": "extraordinary-jurisdiction",
   "metadata": {},
   "source": [
    "#### Nulls"
   ]
  },
  {
   "cell_type": "code",
   "execution_count": 5,
   "id": "unusual-turner",
   "metadata": {},
   "outputs": [
    {
     "data": {
      "text/plain": [
       "X        0\n",
       "Y        0\n",
       "month    0\n",
       "day      0\n",
       "FFMC     0\n",
       "DMC      0\n",
       "DC       0\n",
       "ISI      0\n",
       "temp     0\n",
       "RH       0\n",
       "wind     0\n",
       "rain     0\n",
       "area     0\n",
       "dtype: int64"
      ]
     },
     "execution_count": 5,
     "metadata": {},
     "output_type": "execute_result"
    }
   ],
   "source": [
    "rawData.isnull().sum()"
   ]
  },
  {
   "cell_type": "markdown",
   "id": "billion-harris",
   "metadata": {},
   "source": [
    "#### Summary"
   ]
  },
  {
   "cell_type": "code",
   "execution_count": 7,
   "id": "royal-glass",
   "metadata": {},
   "outputs": [
    {
     "data": {
      "text/html": [
       "<div>\n",
       "<style scoped>\n",
       "    .dataframe tbody tr th:only-of-type {\n",
       "        vertical-align: middle;\n",
       "    }\n",
       "\n",
       "    .dataframe tbody tr th {\n",
       "        vertical-align: top;\n",
       "    }\n",
       "\n",
       "    .dataframe thead th {\n",
       "        text-align: right;\n",
       "    }\n",
       "</style>\n",
       "<table border=\"1\" class=\"dataframe\">\n",
       "  <thead>\n",
       "    <tr style=\"text-align: right;\">\n",
       "      <th></th>\n",
       "      <th>X</th>\n",
       "      <th>Y</th>\n",
       "      <th>FFMC</th>\n",
       "      <th>DMC</th>\n",
       "      <th>DC</th>\n",
       "      <th>ISI</th>\n",
       "      <th>temp</th>\n",
       "      <th>RH</th>\n",
       "      <th>wind</th>\n",
       "      <th>rain</th>\n",
       "      <th>area</th>\n",
       "    </tr>\n",
       "  </thead>\n",
       "  <tbody>\n",
       "    <tr>\n",
       "      <th>count</th>\n",
       "      <td>517.000000</td>\n",
       "      <td>517.000000</td>\n",
       "      <td>517.000000</td>\n",
       "      <td>517.000000</td>\n",
       "      <td>517.000000</td>\n",
       "      <td>517.000000</td>\n",
       "      <td>517.000000</td>\n",
       "      <td>517.000000</td>\n",
       "      <td>517.000000</td>\n",
       "      <td>517.000000</td>\n",
       "      <td>517.000000</td>\n",
       "    </tr>\n",
       "    <tr>\n",
       "      <th>mean</th>\n",
       "      <td>4.669246</td>\n",
       "      <td>4.299807</td>\n",
       "      <td>90.644681</td>\n",
       "      <td>110.872340</td>\n",
       "      <td>547.940039</td>\n",
       "      <td>9.021663</td>\n",
       "      <td>18.889168</td>\n",
       "      <td>44.288201</td>\n",
       "      <td>4.017602</td>\n",
       "      <td>0.021663</td>\n",
       "      <td>12.847292</td>\n",
       "    </tr>\n",
       "    <tr>\n",
       "      <th>std</th>\n",
       "      <td>2.313778</td>\n",
       "      <td>1.229900</td>\n",
       "      <td>5.520111</td>\n",
       "      <td>64.046482</td>\n",
       "      <td>248.066192</td>\n",
       "      <td>4.559477</td>\n",
       "      <td>5.806625</td>\n",
       "      <td>16.317469</td>\n",
       "      <td>1.791653</td>\n",
       "      <td>0.295959</td>\n",
       "      <td>63.655818</td>\n",
       "    </tr>\n",
       "    <tr>\n",
       "      <th>min</th>\n",
       "      <td>1.000000</td>\n",
       "      <td>2.000000</td>\n",
       "      <td>18.700000</td>\n",
       "      <td>1.100000</td>\n",
       "      <td>7.900000</td>\n",
       "      <td>0.000000</td>\n",
       "      <td>2.200000</td>\n",
       "      <td>15.000000</td>\n",
       "      <td>0.400000</td>\n",
       "      <td>0.000000</td>\n",
       "      <td>0.000000</td>\n",
       "    </tr>\n",
       "    <tr>\n",
       "      <th>25%</th>\n",
       "      <td>3.000000</td>\n",
       "      <td>4.000000</td>\n",
       "      <td>90.200000</td>\n",
       "      <td>68.600000</td>\n",
       "      <td>437.700000</td>\n",
       "      <td>6.500000</td>\n",
       "      <td>15.500000</td>\n",
       "      <td>33.000000</td>\n",
       "      <td>2.700000</td>\n",
       "      <td>0.000000</td>\n",
       "      <td>0.000000</td>\n",
       "    </tr>\n",
       "    <tr>\n",
       "      <th>50%</th>\n",
       "      <td>4.000000</td>\n",
       "      <td>4.000000</td>\n",
       "      <td>91.600000</td>\n",
       "      <td>108.300000</td>\n",
       "      <td>664.200000</td>\n",
       "      <td>8.400000</td>\n",
       "      <td>19.300000</td>\n",
       "      <td>42.000000</td>\n",
       "      <td>4.000000</td>\n",
       "      <td>0.000000</td>\n",
       "      <td>0.520000</td>\n",
       "    </tr>\n",
       "    <tr>\n",
       "      <th>75%</th>\n",
       "      <td>7.000000</td>\n",
       "      <td>5.000000</td>\n",
       "      <td>92.900000</td>\n",
       "      <td>142.400000</td>\n",
       "      <td>713.900000</td>\n",
       "      <td>10.800000</td>\n",
       "      <td>22.800000</td>\n",
       "      <td>53.000000</td>\n",
       "      <td>4.900000</td>\n",
       "      <td>0.000000</td>\n",
       "      <td>6.570000</td>\n",
       "    </tr>\n",
       "    <tr>\n",
       "      <th>max</th>\n",
       "      <td>9.000000</td>\n",
       "      <td>9.000000</td>\n",
       "      <td>96.200000</td>\n",
       "      <td>291.300000</td>\n",
       "      <td>860.600000</td>\n",
       "      <td>56.100000</td>\n",
       "      <td>33.300000</td>\n",
       "      <td>100.000000</td>\n",
       "      <td>9.400000</td>\n",
       "      <td>6.400000</td>\n",
       "      <td>1090.840000</td>\n",
       "    </tr>\n",
       "  </tbody>\n",
       "</table>\n",
       "</div>"
      ],
      "text/plain": [
       "                X           Y        FFMC         DMC          DC         ISI  \\\n",
       "count  517.000000  517.000000  517.000000  517.000000  517.000000  517.000000   \n",
       "mean     4.669246    4.299807   90.644681  110.872340  547.940039    9.021663   \n",
       "std      2.313778    1.229900    5.520111   64.046482  248.066192    4.559477   \n",
       "min      1.000000    2.000000   18.700000    1.100000    7.900000    0.000000   \n",
       "25%      3.000000    4.000000   90.200000   68.600000  437.700000    6.500000   \n",
       "50%      4.000000    4.000000   91.600000  108.300000  664.200000    8.400000   \n",
       "75%      7.000000    5.000000   92.900000  142.400000  713.900000   10.800000   \n",
       "max      9.000000    9.000000   96.200000  291.300000  860.600000   56.100000   \n",
       "\n",
       "             temp          RH        wind        rain         area  \n",
       "count  517.000000  517.000000  517.000000  517.000000   517.000000  \n",
       "mean    18.889168   44.288201    4.017602    0.021663    12.847292  \n",
       "std      5.806625   16.317469    1.791653    0.295959    63.655818  \n",
       "min      2.200000   15.000000    0.400000    0.000000     0.000000  \n",
       "25%     15.500000   33.000000    2.700000    0.000000     0.000000  \n",
       "50%     19.300000   42.000000    4.000000    0.000000     0.520000  \n",
       "75%     22.800000   53.000000    4.900000    0.000000     6.570000  \n",
       "max     33.300000  100.000000    9.400000    6.400000  1090.840000  "
      ]
     },
     "execution_count": 7,
     "metadata": {},
     "output_type": "execute_result"
    }
   ],
   "source": [
    "rawData.describe()"
   ]
  },
  {
   "cell_type": "markdown",
   "id": "further-heaven",
   "metadata": {},
   "source": [
    "#### Rain Column"
   ]
  },
  {
   "cell_type": "code",
   "execution_count": 8,
   "id": "standing-great",
   "metadata": {},
   "outputs": [
    {
     "name": "stdout",
     "output_type": "stream",
     "text": [
      "8\n"
     ]
    },
    {
     "data": {
      "text/html": [
       "<div>\n",
       "<style scoped>\n",
       "    .dataframe tbody tr th:only-of-type {\n",
       "        vertical-align: middle;\n",
       "    }\n",
       "\n",
       "    .dataframe tbody tr th {\n",
       "        vertical-align: top;\n",
       "    }\n",
       "\n",
       "    .dataframe thead th {\n",
       "        text-align: right;\n",
       "    }\n",
       "</style>\n",
       "<table border=\"1\" class=\"dataframe\">\n",
       "  <thead>\n",
       "    <tr style=\"text-align: right;\">\n",
       "      <th></th>\n",
       "      <th>X</th>\n",
       "      <th>Y</th>\n",
       "      <th>month</th>\n",
       "      <th>day</th>\n",
       "      <th>FFMC</th>\n",
       "      <th>DMC</th>\n",
       "      <th>DC</th>\n",
       "      <th>ISI</th>\n",
       "      <th>temp</th>\n",
       "      <th>RH</th>\n",
       "      <th>wind</th>\n",
       "      <th>rain</th>\n",
       "      <th>area</th>\n",
       "    </tr>\n",
       "  </thead>\n",
       "  <tbody>\n",
       "    <tr>\n",
       "      <th>3</th>\n",
       "      <td>8</td>\n",
       "      <td>6</td>\n",
       "      <td>mar</td>\n",
       "      <td>fri</td>\n",
       "      <td>91.7</td>\n",
       "      <td>33.3</td>\n",
       "      <td>77.5</td>\n",
       "      <td>9.0</td>\n",
       "      <td>8.3</td>\n",
       "      <td>97</td>\n",
       "      <td>4.0</td>\n",
       "      <td>0.2</td>\n",
       "      <td>0.00</td>\n",
       "    </tr>\n",
       "    <tr>\n",
       "      <th>243</th>\n",
       "      <td>7</td>\n",
       "      <td>4</td>\n",
       "      <td>aug</td>\n",
       "      <td>sun</td>\n",
       "      <td>91.8</td>\n",
       "      <td>175.1</td>\n",
       "      <td>700.7</td>\n",
       "      <td>13.8</td>\n",
       "      <td>21.9</td>\n",
       "      <td>73</td>\n",
       "      <td>7.6</td>\n",
       "      <td>1.0</td>\n",
       "      <td>0.00</td>\n",
       "    </tr>\n",
       "    <tr>\n",
       "      <th>286</th>\n",
       "      <td>7</td>\n",
       "      <td>6</td>\n",
       "      <td>jul</td>\n",
       "      <td>wed</td>\n",
       "      <td>91.2</td>\n",
       "      <td>183.1</td>\n",
       "      <td>437.7</td>\n",
       "      <td>12.5</td>\n",
       "      <td>12.6</td>\n",
       "      <td>90</td>\n",
       "      <td>7.6</td>\n",
       "      <td>0.2</td>\n",
       "      <td>0.00</td>\n",
       "    </tr>\n",
       "    <tr>\n",
       "      <th>499</th>\n",
       "      <td>7</td>\n",
       "      <td>5</td>\n",
       "      <td>aug</td>\n",
       "      <td>tue</td>\n",
       "      <td>96.1</td>\n",
       "      <td>181.1</td>\n",
       "      <td>671.2</td>\n",
       "      <td>14.3</td>\n",
       "      <td>27.3</td>\n",
       "      <td>63</td>\n",
       "      <td>4.9</td>\n",
       "      <td>6.4</td>\n",
       "      <td>10.82</td>\n",
       "    </tr>\n",
       "    <tr>\n",
       "      <th>500</th>\n",
       "      <td>8</td>\n",
       "      <td>6</td>\n",
       "      <td>aug</td>\n",
       "      <td>tue</td>\n",
       "      <td>96.1</td>\n",
       "      <td>181.1</td>\n",
       "      <td>671.2</td>\n",
       "      <td>14.3</td>\n",
       "      <td>21.6</td>\n",
       "      <td>65</td>\n",
       "      <td>4.9</td>\n",
       "      <td>0.8</td>\n",
       "      <td>0.00</td>\n",
       "    </tr>\n",
       "    <tr>\n",
       "      <th>501</th>\n",
       "      <td>7</td>\n",
       "      <td>5</td>\n",
       "      <td>aug</td>\n",
       "      <td>tue</td>\n",
       "      <td>96.1</td>\n",
       "      <td>181.1</td>\n",
       "      <td>671.2</td>\n",
       "      <td>14.3</td>\n",
       "      <td>21.6</td>\n",
       "      <td>65</td>\n",
       "      <td>4.9</td>\n",
       "      <td>0.8</td>\n",
       "      <td>0.00</td>\n",
       "    </tr>\n",
       "    <tr>\n",
       "      <th>502</th>\n",
       "      <td>4</td>\n",
       "      <td>4</td>\n",
       "      <td>aug</td>\n",
       "      <td>tue</td>\n",
       "      <td>96.1</td>\n",
       "      <td>181.1</td>\n",
       "      <td>671.2</td>\n",
       "      <td>14.3</td>\n",
       "      <td>20.7</td>\n",
       "      <td>69</td>\n",
       "      <td>4.9</td>\n",
       "      <td>0.4</td>\n",
       "      <td>0.00</td>\n",
       "    </tr>\n",
       "    <tr>\n",
       "      <th>509</th>\n",
       "      <td>5</td>\n",
       "      <td>4</td>\n",
       "      <td>aug</td>\n",
       "      <td>fri</td>\n",
       "      <td>91.0</td>\n",
       "      <td>166.9</td>\n",
       "      <td>752.6</td>\n",
       "      <td>7.1</td>\n",
       "      <td>21.1</td>\n",
       "      <td>71</td>\n",
       "      <td>7.6</td>\n",
       "      <td>1.4</td>\n",
       "      <td>2.17</td>\n",
       "    </tr>\n",
       "  </tbody>\n",
       "</table>\n",
       "</div>"
      ],
      "text/plain": [
       "     X  Y month  day  FFMC    DMC     DC   ISI  temp  RH  wind  rain   area\n",
       "3    8  6   mar  fri  91.7   33.3   77.5   9.0   8.3  97   4.0   0.2   0.00\n",
       "243  7  4   aug  sun  91.8  175.1  700.7  13.8  21.9  73   7.6   1.0   0.00\n",
       "286  7  6   jul  wed  91.2  183.1  437.7  12.5  12.6  90   7.6   0.2   0.00\n",
       "499  7  5   aug  tue  96.1  181.1  671.2  14.3  27.3  63   4.9   6.4  10.82\n",
       "500  8  6   aug  tue  96.1  181.1  671.2  14.3  21.6  65   4.9   0.8   0.00\n",
       "501  7  5   aug  tue  96.1  181.1  671.2  14.3  21.6  65   4.9   0.8   0.00\n",
       "502  4  4   aug  tue  96.1  181.1  671.2  14.3  20.7  69   4.9   0.4   0.00\n",
       "509  5  4   aug  fri  91.0  166.9  752.6   7.1  21.1  71   7.6   1.4   2.17"
      ]
     },
     "execution_count": 8,
     "metadata": {},
     "output_type": "execute_result"
    }
   ],
   "source": [
    "print(len(rawData[rawData['rain'] > 0]))\n",
    "\n",
    "rawData[rawData['rain'] > 0]"
   ]
  },
  {
   "cell_type": "code",
   "execution_count": 9,
   "id": "ideal-classification",
   "metadata": {},
   "outputs": [],
   "source": [
    "rawData.drop(labels=['rain'], axis = 1, inplace=True)"
   ]
  },
  {
   "cell_type": "markdown",
   "id": "otherwise-presentation",
   "metadata": {},
   "source": [
    "#### Explore distribution of area values"
   ]
  },
  {
   "cell_type": "code",
   "execution_count": 12,
   "id": "attempted-conjunction",
   "metadata": {},
   "outputs": [
    {
     "data": {
      "image/png": "[encoded data removed]",
      "text/plain": [
       "<Figure size 864x576 with 2 Axes>"
      ]
     },
     "metadata": {
      "needs_background": "light"
     },
     "output_type": "display_data"
    }
   ],
   "source": [
    "# Get the variable to examine\n",
    "histData = rawData['area']\n",
    "\n",
    "meanVal = histData.mean()\n",
    "\n",
    "# Create a Figure\n",
    "plt.figure(figsize=(12,8))\n",
    "\n",
    "plt.subplot(2,1,1)\n",
    "plt.hist(histData, bins=[0, 1, 10, 20, 30, 40, 50, 60, 70, 80, 90, 100, 200])\n",
    "plt.axvline(x=meanVal, color = 'blue', linestyle='dashed', linewidth = 2)\n",
    "plt.title('Data Distribution')\n",
    "plt.xlabel('Value')\n",
    "plt.xticks(ticks=[0, 1, 10, 20, 30, 40, 50, 60, 70, 80, 90, 100, 200])\n",
    "plt.ylabel('Frequency')\n",
    "plt.grid(True)\n",
    "\n",
    "plt.subplot(2,1,2)\n",
    "plt.hist(histData, bins=[10, 20, 30, 40, 50, 60, 70, 80, 90, 100, 200])\n",
    "plt.axvline(x=meanVal, color = 'blue', linestyle='dashed', linewidth = 2)\n",
    "plt.title('Data Distribution')\n",
    "plt.xlabel('Value')\n",
    "plt.xticks(ticks=[10, 20, 30, 40, 50, 60, 70, 80, 90, 100, 200])\n",
    "plt.ylabel('Frequency')\n",
    "plt.grid(True)\n",
    "\n",
    "plt.show()"
   ]
  },
  {
   "cell_type": "code",
   "execution_count": 13,
   "id": "aboriginal-toilet",
   "metadata": {},
   "outputs": [
    {
     "name": "stdout",
     "output_type": "stream",
     "text": [
      "The number of records with zero burnt area is:  247\n",
      "The number of records with non zero burnt area is:  270\n",
      "The number of records with burnt area between 0 and 1 hectares is:  27\n"
     ]
    }
   ],
   "source": [
    "print('The number of records with zero burnt area is:  {}'\n",
    "      .format(len(rawData[rawData['area'] == 0])))\n",
    "\n",
    "print('The number of records with non zero burnt area is:  {}'\n",
    "      .format(len(rawData[rawData['area'] != 0])))\n",
    "\n",
    "print(\"The number of records with burnt area between 0 and 1 hectares is:  {}\"\n",
    "      .format(len(rawData.loc[(rawData['area'] > 0) & (rawData['area'] <= 1)])))"
   ]
  },
  {
   "cell_type": "code",
   "execution_count": 15,
   "id": "hindu-jenny",
   "metadata": {},
   "outputs": [
    {
     "name": "stdout",
     "output_type": "stream",
     "text": [
      "Burnt area more than 10 hectares is:  95\n",
      "Burnt area more than 50 hectares is:  24\n",
      "Burnt area more than 100 hectares is:  11\n",
      "Burnt area more than 200 hectares is:  5\n",
      "Burnt area more than 500 hectares is:  2\n",
      "Burnt area more than 1000 hectares is:  1\n",
      "Burnt area more than 1100 hectares is:  0\n"
     ]
    }
   ],
   "source": [
    "limits = [10, 50, 100, 200, 500, 1000, 1100]\n",
    "\n",
    "for each in limits:\n",
    "    \n",
    "    print('Burnt area more than {} hectares is:  {}'\n",
    "          .format(each, len(rawData[rawData['area'] > each])))"
   ]
  },
  {
   "cell_type": "markdown",
   "id": "allied-potential",
   "metadata": {},
   "source": [
    "#### Explore the distribution of other values"
   ]
  },
  {
   "cell_type": "code",
   "execution_count": 17,
   "id": "geological-passenger",
   "metadata": {},
   "outputs": [
    {
     "data": {
      "image/png": "[encoded data removed]",
      "text/plain": [
       "<Figure size 1152x720 with 4 Axes>"
      ]
     },
     "metadata": {
      "needs_background": "light"
     },
     "output_type": "display_data"
    }
   ],
   "source": [
    "plt.figure(figsize=(16, 10))\n",
    "\n",
    "plt.subplot(2, 2, 1)\n",
    "plt.hist(rawData['X'])\n",
    "plt.grid(False)\n",
    "plt.title('X')\n",
    "plt.xlabel('Value')\n",
    "plt.ylabel('Frequency')\n",
    "\n",
    "plt.subplot(2, 2, 2)\n",
    "plt.hist(rawData['Y'])\n",
    "plt.grid(False)\n",
    "plt.title('Y')\n",
    "plt.xlabel('Value')\n",
    "plt.ylabel('Frequency')\n",
    "\n",
    "plt.subplot(2, 2, 3)\n",
    "plt.hist(rawData['month'])\n",
    "plt.grid(False)\n",
    "plt.title('Month')\n",
    "plt.xlabel('Value')\n",
    "plt.ylabel('Frequency')\n",
    "\n",
    "plt.subplot(2, 2, 4)\n",
    "plt.hist(rawData['day'])\n",
    "plt.grid(False)\n",
    "plt.title('Day')\n",
    "plt.xlabel('Value')\n",
    "plt.ylabel('Frequency')\n",
    "\n",
    "\n",
    "plt.show()"
   ]
  },
  {
   "cell_type": "code",
   "execution_count": 19,
   "id": "connected-mountain",
   "metadata": {},
   "outputs": [
    {
     "data": {
      "image/png": "[encoded data removed]",
      "text/plain": [
       "<Figure size 1152x720 with 3 Axes>"
      ]
     },
     "metadata": {
      "needs_background": "light"
     },
     "output_type": "display_data"
    }
   ],
   "source": [
    "plt.figure(figsize=(16, 10))\n",
    "\n",
    "plt.subplot(2, 2, 1)\n",
    "plt.hist(rawData['temp'])\n",
    "plt.grid(False)\n",
    "plt.title('Temperature')\n",
    "plt.xlabel('Value')\n",
    "plt.ylabel('Frequency')\n",
    "\n",
    "plt.subplot(2, 2, 2)\n",
    "plt.hist(rawData['RH'])\n",
    "plt.grid(False)\n",
    "plt.title('Relative Humidity')\n",
    "plt.xlabel('Value')\n",
    "plt.ylabel('Frequency')\n",
    "\n",
    "plt.subplot(2, 2, 3)\n",
    "plt.hist(rawData['wind'])\n",
    "plt.grid(False)\n",
    "plt.title('Wind')\n",
    "plt.xlabel('Value')\n",
    "plt.ylabel('Frequency')\n",
    "\n",
    "plt.show()"
   ]
  },
  {
   "cell_type": "code",
   "execution_count": 20,
   "id": "advised-anaheim",
   "metadata": {},
   "outputs": [
    {
     "data": {
      "image/png": "[encoded data removed]",
      "text/plain": [
       "<Figure size 1152x720 with 4 Axes>"
      ]
     },
     "metadata": {
      "needs_background": "light"
     },
     "output_type": "display_data"
    }
   ],
   "source": [
    "plt.figure(figsize=(16, 10))\n",
    "\n",
    "plt.subplot(2, 2, 1)\n",
    "plt.hist(rawData['FFMC'])\n",
    "plt.grid(False)\n",
    "plt.title('FFMC')\n",
    "plt.xlabel('Value')\n",
    "plt.ylabel('Frequency')\n",
    "\n",
    "plt.subplot(2, 2, 2)\n",
    "plt.hist(rawData['DMC'])\n",
    "plt.grid(False)\n",
    "plt.title('DMC')\n",
    "plt.xlabel('Value')\n",
    "plt.ylabel('Frequency')\n",
    "\n",
    "plt.subplot(2, 2, 3)\n",
    "plt.hist(rawData['DC'])\n",
    "plt.grid(False)\n",
    "plt.title('DC')\n",
    "plt.xlabel('Value')\n",
    "plt.ylabel('Frequency')\n",
    "\n",
    "plt.subplot(2, 2, 4)\n",
    "plt.hist(rawData['ISI'])\n",
    "plt.grid(False)\n",
    "plt.title('ISI')\n",
    "plt.xlabel('Value')\n",
    "plt.ylabel('Frequency')\n",
    "\n",
    "plt.show()"
   ]
  },
  {
   "cell_type": "code",
   "execution_count": 55,
   "id": "northern-bachelor",
   "metadata": {},
   "outputs": [
    {
     "data": {
      "text/plain": [
       "[<matplotlib.lines.Line2D at 0x1efab842550>]"
      ]
     },
     "execution_count": 55,
     "metadata": {},
     "output_type": "execute_result"
    },
    {
     "data": {
      "image/png": "[encoded data removed]",
      "text/plain": [
       "<Figure size 432x288 with 1 Axes>"
      ]
     },
     "metadata": {
      "needs_background": "light"
     },
     "output_type": "display_data"
    }
   ],
   "source": [
    "months = {'jan' : 0, 'feb' : 1, 'mar' : 2, 'apr' : 3, 'may' : 4, 'jun' : 5, 'jul' : 6,\n",
    "               'aug' : 7, 'sep' : 8, 'oct' : 9, 'nov' : 10, 'dec' : 11}\n",
    "\n",
    "plt.plot(rawData[['month', 'area']].groupby(by='month').agg('mean').sort_values(by='month', key = lambda x: x.map(months)))"
   ]
  },
  {
   "cell_type": "code",
   "execution_count": 59,
   "id": "fluid-storage",
   "metadata": {},
   "outputs": [
    {
     "data": {
      "text/plain": [
       "[<matplotlib.lines.Line2D at 0x1efab877610>]"
      ]
     },
     "execution_count": 59,
     "metadata": {},
     "output_type": "execute_result"
    },
    {
     "data": {
      "image/png": "[encoded data removed]",
      "text/plain": [
       "<Figure size 432x288 with 1 Axes>"
      ]
     },
     "metadata": {
      "needs_background": "light"
     },
     "output_type": "display_data"
    }
   ],
   "source": [
    "months = {'mon' : 0, 'tue' : 1, 'wed' : 2, 'thu' : 3, 'fri' : 4, 'sat' : 5, 'sun' : 6}\n",
    "\n",
    "plt.plot(rawData[['day', 'area']].groupby(by='day').agg('mean').sort_values(by='day', key = lambda x: x.map(months)))"
   ]
  },
  {
   "cell_type": "code",
   "execution_count": null,
   "id": "structured-wallpaper",
   "metadata": {},
   "outputs": [],
   "source": []
  },
  {
   "cell_type": "code",
   "execution_count": null,
   "id": "organized-album",
   "metadata": {},
   "outputs": [],
   "source": []
  },
  {
   "cell_type": "code",
   "execution_count": null,
   "id": "protecting-disorder",
   "metadata": {},
   "outputs": [],
   "source": []
  },
  {
   "cell_type": "markdown",
   "id": "crucial-fifteen",
   "metadata": {},
   "source": [
    "#### Create a dataset without outliers"
   ]
  },
  {
   "cell_type": "code",
   "execution_count": 21,
   "id": "continental-applicant",
   "metadata": {},
   "outputs": [],
   "source": [
    "thirdQuartile = rawData[['area']].describe().at['75%', 'area']\n",
    "\n",
    "firstQuartile = rawData[['area']].describe().at['25%', 'area']\n",
    "\n",
    "IQR = thirdQuartile - firstQuartile\n",
    "\n",
    "outlierLimit = 1.5 * IQR"
   ]
  },
  {
   "cell_type": "code",
   "execution_count": 22,
   "id": "changing-israeli",
   "metadata": {},
   "outputs": [
    {
     "data": {
      "text/plain": [
       "9.855"
      ]
     },
     "execution_count": 22,
     "metadata": {},
     "output_type": "execute_result"
    }
   ],
   "source": [
    "outlierLimit"
   ]
  },
  {
   "cell_type": "code",
   "execution_count": 24,
   "id": "local-supervisor",
   "metadata": {},
   "outputs": [
    {
     "name": "stdout",
     "output_type": "stream",
     "text": [
      "97\n"
     ]
    }
   ],
   "source": [
    "print(len(rawData[rawData['area'] > outlierLimit]))"
   ]
  },
  {
   "cell_type": "code",
   "execution_count": 25,
   "id": "incorporate-oxide",
   "metadata": {},
   "outputs": [],
   "source": [
    "cleanDF = rawData[rawData['area'] <= outlierLimit]"
   ]
  },
  {
   "cell_type": "code",
   "execution_count": 26,
   "id": "fallen-theta",
   "metadata": {},
   "outputs": [
    {
     "data": {
      "text/html": [
       "<div>\n",
       "<style scoped>\n",
       "    .dataframe tbody tr th:only-of-type {\n",
       "        vertical-align: middle;\n",
       "    }\n",
       "\n",
       "    .dataframe tbody tr th {\n",
       "        vertical-align: top;\n",
       "    }\n",
       "\n",
       "    .dataframe thead th {\n",
       "        text-align: right;\n",
       "    }\n",
       "</style>\n",
       "<table border=\"1\" class=\"dataframe\">\n",
       "  <thead>\n",
       "    <tr style=\"text-align: right;\">\n",
       "      <th></th>\n",
       "      <th>X</th>\n",
       "      <th>Y</th>\n",
       "      <th>FFMC</th>\n",
       "      <th>DMC</th>\n",
       "      <th>DC</th>\n",
       "      <th>ISI</th>\n",
       "      <th>temp</th>\n",
       "      <th>RH</th>\n",
       "      <th>wind</th>\n",
       "      <th>area</th>\n",
       "    </tr>\n",
       "  </thead>\n",
       "  <tbody>\n",
       "    <tr>\n",
       "      <th>count</th>\n",
       "      <td>420.000000</td>\n",
       "      <td>420.000000</td>\n",
       "      <td>420.000000</td>\n",
       "      <td>420.000000</td>\n",
       "      <td>420.000000</td>\n",
       "      <td>420.000000</td>\n",
       "      <td>420.000000</td>\n",
       "      <td>420.000000</td>\n",
       "      <td>420.000000</td>\n",
       "      <td>420.000000</td>\n",
       "    </tr>\n",
       "    <tr>\n",
       "      <th>mean</th>\n",
       "      <td>4.611905</td>\n",
       "      <td>4.302381</td>\n",
       "      <td>90.620714</td>\n",
       "      <td>109.586190</td>\n",
       "      <td>543.507857</td>\n",
       "      <td>9.078333</td>\n",
       "      <td>18.884762</td>\n",
       "      <td>44.509524</td>\n",
       "      <td>3.948095</td>\n",
       "      <td>1.515357</td>\n",
       "    </tr>\n",
       "    <tr>\n",
       "      <th>std</th>\n",
       "      <td>2.312021</td>\n",
       "      <td>1.253727</td>\n",
       "      <td>5.767668</td>\n",
       "      <td>62.958875</td>\n",
       "      <td>249.958323</td>\n",
       "      <td>4.634413</td>\n",
       "      <td>5.638184</td>\n",
       "      <td>16.240655</td>\n",
       "      <td>1.763383</td>\n",
       "      <td>2.486176</td>\n",
       "    </tr>\n",
       "    <tr>\n",
       "      <th>min</th>\n",
       "      <td>1.000000</td>\n",
       "      <td>2.000000</td>\n",
       "      <td>18.700000</td>\n",
       "      <td>1.100000</td>\n",
       "      <td>7.900000</td>\n",
       "      <td>0.000000</td>\n",
       "      <td>2.200000</td>\n",
       "      <td>15.000000</td>\n",
       "      <td>0.400000</td>\n",
       "      <td>0.000000</td>\n",
       "    </tr>\n",
       "    <tr>\n",
       "      <th>25%</th>\n",
       "      <td>3.000000</td>\n",
       "      <td>4.000000</td>\n",
       "      <td>90.200000</td>\n",
       "      <td>69.425000</td>\n",
       "      <td>436.600000</td>\n",
       "      <td>6.500000</td>\n",
       "      <td>15.575000</td>\n",
       "      <td>33.000000</td>\n",
       "      <td>2.700000</td>\n",
       "      <td>0.000000</td>\n",
       "    </tr>\n",
       "    <tr>\n",
       "      <th>50%</th>\n",
       "      <td>4.000000</td>\n",
       "      <td>4.000000</td>\n",
       "      <td>91.650000</td>\n",
       "      <td>106.900000</td>\n",
       "      <td>658.200000</td>\n",
       "      <td>8.400000</td>\n",
       "      <td>19.200000</td>\n",
       "      <td>42.000000</td>\n",
       "      <td>4.000000</td>\n",
       "      <td>0.000000</td>\n",
       "    </tr>\n",
       "    <tr>\n",
       "      <th>75%</th>\n",
       "      <td>6.250000</td>\n",
       "      <td>5.000000</td>\n",
       "      <td>92.800000</td>\n",
       "      <td>142.400000</td>\n",
       "      <td>713.900000</td>\n",
       "      <td>10.700000</td>\n",
       "      <td>22.800000</td>\n",
       "      <td>53.000000</td>\n",
       "      <td>4.900000</td>\n",
       "      <td>2.140000</td>\n",
       "    </tr>\n",
       "    <tr>\n",
       "      <th>max</th>\n",
       "      <td>9.000000</td>\n",
       "      <td>9.000000</td>\n",
       "      <td>96.200000</td>\n",
       "      <td>291.300000</td>\n",
       "      <td>860.600000</td>\n",
       "      <td>56.100000</td>\n",
       "      <td>32.600000</td>\n",
       "      <td>100.000000</td>\n",
       "      <td>9.400000</td>\n",
       "      <td>9.770000</td>\n",
       "    </tr>\n",
       "  </tbody>\n",
       "</table>\n",
       "</div>"
      ],
      "text/plain": [
       "                X           Y        FFMC         DMC          DC         ISI  \\\n",
       "count  420.000000  420.000000  420.000000  420.000000  420.000000  420.000000   \n",
       "mean     4.611905    4.302381   90.620714  109.586190  543.507857    9.078333   \n",
       "std      2.312021    1.253727    5.767668   62.958875  249.958323    4.634413   \n",
       "min      1.000000    2.000000   18.700000    1.100000    7.900000    0.000000   \n",
       "25%      3.000000    4.000000   90.200000   69.425000  436.600000    6.500000   \n",
       "50%      4.000000    4.000000   91.650000  106.900000  658.200000    8.400000   \n",
       "75%      6.250000    5.000000   92.800000  142.400000  713.900000   10.700000   \n",
       "max      9.000000    9.000000   96.200000  291.300000  860.600000   56.100000   \n",
       "\n",
       "             temp          RH        wind        area  \n",
       "count  420.000000  420.000000  420.000000  420.000000  \n",
       "mean    18.884762   44.509524    3.948095    1.515357  \n",
       "std      5.638184   16.240655    1.763383    2.486176  \n",
       "min      2.200000   15.000000    0.400000    0.000000  \n",
       "25%     15.575000   33.000000    2.700000    0.000000  \n",
       "50%     19.200000   42.000000    4.000000    0.000000  \n",
       "75%     22.800000   53.000000    4.900000    2.140000  \n",
       "max     32.600000  100.000000    9.400000    9.770000  "
      ]
     },
     "execution_count": 26,
     "metadata": {},
     "output_type": "execute_result"
    }
   ],
   "source": [
    "cleanDF.describe()"
   ]
  },
  {
   "cell_type": "code",
   "execution_count": 27,
   "id": "fitting-church",
   "metadata": {},
   "outputs": [
    {
     "data": {
      "image/png": "[encoded data removed]",
      "text/plain": [
       "<Figure size 1152x432 with 1 Axes>"
      ]
     },
     "metadata": {
      "needs_background": "light"
     },
     "output_type": "display_data"
    }
   ],
   "source": [
    "histData = cleanDF['area']\n",
    "\n",
    "\n",
    "plt.figure(figsize=(16, 6))\n",
    "\n",
    "minVal = histData.min()\n",
    "meanVal = histData.mean()\n",
    "medVal = histData.median()\n",
    "maxVal = histData.max()\n",
    "\n",
    "\n",
    "plt.hist(histData, bins=[0,1,2,3,4,5,6,7,8,9,10])\n",
    "\n",
    "plt.axvline(x=meanVal, color = 'blue', linestyle='dashed', linewidth = 2)\n",
    "plt.axvline(x=maxVal, color = 'black', linestyle='dashed', linewidth = 2)\n",
    "plt.axvline(x=minVal, color = 'black', linestyle='dashed', linewidth = 2)\n",
    "plt.axvline(x=medVal, color = 'red', linestyle='dashed', linewidth = 2)\n",
    "\n",
    "plt.grid(True)\n",
    "plt.title('Data Distribution')\n",
    "plt.xlabel('Value')\n",
    "plt.ylabel('Frequency')\n",
    "plt.show()"
   ]
  },
  {
   "cell_type": "markdown",
   "id": "defensive-memorial",
   "metadata": {},
   "source": [
    "#### Train/Test split both the datasets"
   ]
  },
  {
   "cell_type": "code",
   "execution_count": 112,
   "id": "frank-shift",
   "metadata": {},
   "outputs": [],
   "source": [
    "X, Y = rawData[['X', 'Y', 'FFMC', 'DMC', 'DC', 'ISI', 'temp', 'RH', 'wind']], rawData[['area']]"
   ]
  },
  {
   "cell_type": "code",
   "execution_count": 113,
   "id": "cooperative-journalism",
   "metadata": {},
   "outputs": [],
   "source": [
    "XTrain, XTest, YTrain, YTest = train_test_split(X, Y,\n",
    "                                                test_size=0.20,\n",
    "                                                random_state=9892)"
   ]
  },
  {
   "cell_type": "code",
   "execution_count": 125,
   "id": "rubber-league",
   "metadata": {},
   "outputs": [],
   "source": [
    "XClean, YClean = cleanDF[['X', 'Y', 'FFMC', 'DMC', 'DC', 'ISI', 'temp', 'RH', 'wind']], cleanDF[['area']]"
   ]
  },
  {
   "cell_type": "code",
   "execution_count": 126,
   "id": "impaired-attitude",
   "metadata": {},
   "outputs": [],
   "source": [
    "XCleanTrain, XCleanTest, YCleanTrain, YCleanTest = train_test_split(XClean, YClean,\n",
    "                                                                    test_size=0.20,\n",
    "                                                                    random_state=9892)"
   ]
  },
  {
   "cell_type": "code",
   "execution_count": 64,
   "id": "loaded-criterion",
   "metadata": {},
   "outputs": [
    {
     "name": "stdout",
     "output_type": "stream",
     "text": [
      "Training Set: 413 rows\n",
      "\n",
      "Test Set: 104 rows\n"
     ]
    }
   ],
   "source": [
    "print ('Training Set: {} rows\\n\\nTest Set: {} rows'.format(XTrain.shape[0], XTest.shape[0]))"
   ]
  },
  {
   "cell_type": "markdown",
   "id": "biblical-organization",
   "metadata": {},
   "source": [
    "### Model Evaluation"
   ]
  },
  {
   "cell_type": "markdown",
   "id": "informal-uruguay",
   "metadata": {},
   "source": [
    "#### Predictions"
   ]
  },
  {
   "cell_type": "code",
   "execution_count": 65,
   "id": "guided-gardening",
   "metadata": {},
   "outputs": [],
   "source": [
    "def regressionResults(YTrue, predictions):\n",
    "\n",
    "    # Regression metrics\n",
    "    explainedVariance=metrics.explained_variance_score(YTrue, predictions)\n",
    "    MAE=metrics.mean_absolute_error(YTrue, predictions) \n",
    "    MSE=metrics.mean_squared_error(YTrue, predictions) \n",
    "    r2=metrics.r2_score(YTrue, predictions)\n",
    "\n",
    "    print('\\nexplained_variance: ', round(explainedVariance,4))    \n",
    "    print('\\nr2: ', round(r2,4))\n",
    "    print('\\nMAE: ', round(MAE,4))\n",
    "    print('\\nMSE: ', round(MSE,4))\n",
    "    print('\\nRMSE: ', round(np.sqrt(MSE),4))"
   ]
  },
  {
   "cell_type": "markdown",
   "id": "criminal-badge",
   "metadata": {},
   "source": [
    "#### Residuals"
   ]
  },
  {
   "cell_type": "code",
   "execution_count": null,
   "id": "bizarre-dream",
   "metadata": {},
   "outputs": [],
   "source": []
  },
  {
   "cell_type": "markdown",
   "id": "employed-african",
   "metadata": {},
   "source": [
    "### Regression"
   ]
  },
  {
   "cell_type": "markdown",
   "id": "seeing-culture",
   "metadata": {},
   "source": [
    "#### Try a bunch of different models (Play with parameters and pick best one)"
   ]
  },
  {
   "cell_type": "code",
   "execution_count": 73,
   "id": "political-antibody",
   "metadata": {
    "scrolled": true
   },
   "outputs": [
    {
     "name": "stdout",
     "output_type": "stream",
     "text": [
      "\n",
      "explained_variance:  0.0276\n",
      "\n",
      "r2:  0.0275\n",
      "\n",
      "MAE:  20.4458\n",
      "\n",
      "MSE:  5265.9634\n",
      "\n",
      "RMSE:  72.567\n"
     ]
    }
   ],
   "source": [
    "LinRegModel_1 = None\n",
    "LinRegModel_1 = LinearRegression()\n",
    "\n",
    "LinRegModel_1.fit(X=XTrain, y=YTrain)\n",
    "\n",
    "predictions = LinRegModel_1.predict(XTest)\n",
    "\n",
    "regressionResults(YTest.values, predictions)"
   ]
  },
  {
   "cell_type": "code",
   "execution_count": 74,
   "id": "known-fisher",
   "metadata": {},
   "outputs": [
    {
     "data": {
      "text/plain": [
       "Text(0.5, 1.0, 'Daily Bike Share Predictions')"
      ]
     },
     "execution_count": 74,
     "metadata": {},
     "output_type": "execute_result"
    },
    {
     "data": {
      "image/png": "[encoded data removed]",
      "text/plain": [
       "<Figure size 432x288 with 1 Axes>"
      ]
     },
     "metadata": {
      "needs_background": "light"
     },
     "output_type": "display_data"
    }
   ],
   "source": [
    "plt.scatter(YTest.values, predictions)\n",
    "plt.xlabel('Actual Labels')\n",
    "plt.ylabel('Predicted Labels')\n",
    "plt.title('Daily Bike Share Predictions')"
   ]
  },
  {
   "cell_type": "markdown",
   "id": "executive-flour",
   "metadata": {},
   "source": [
    "### Regression (Feature Selection)"
   ]
  },
  {
   "cell_type": "markdown",
   "id": "wrong-virus",
   "metadata": {},
   "source": [
    "#### Recursive Feature Elimination"
   ]
  },
  {
   "cell_type": "code",
   "execution_count": 79,
   "id": "indie-values",
   "metadata": {},
   "outputs": [
    {
     "data": {
      "text/plain": [
       "Index(['X', 'ISI', 'temp', 'wind'], dtype='object')"
      ]
     },
     "execution_count": 79,
     "metadata": {},
     "output_type": "execute_result"
    }
   ],
   "source": [
    "RFESelector = RFE(estimator = LinearRegression(), n_features_to_select = 4)\n",
    "\n",
    "RFESelector.fit(XTrain, YTrain)\n",
    "\n",
    "XTrain.columns[RFESelector.get_support()]"
   ]
  },
  {
   "cell_type": "code",
   "execution_count": 76,
   "id": "sunset-alarm",
   "metadata": {},
   "outputs": [],
   "source": [
    "XTrainRFE = RFESelector.transform(XTrain)\n",
    "XTestRFE = RFESelector.transform(XTest)"
   ]
  },
  {
   "cell_type": "code",
   "execution_count": 80,
   "id": "about-singapore",
   "metadata": {},
   "outputs": [],
   "source": [
    "XTrainRFE = pd.DataFrame(RFESelector.transform(XTrain), columns = XTrain.columns[RFESelector.get_support()])"
   ]
  },
  {
   "cell_type": "code",
   "execution_count": 85,
   "id": "neither-begin",
   "metadata": {},
   "outputs": [],
   "source": [
    "XTestRFE = pd.DataFrame(RFESelector.transform(XTest), columns = XTest.columns[RFESelector.get_support()])"
   ]
  },
  {
   "cell_type": "code",
   "execution_count": 91,
   "id": "serial-remains",
   "metadata": {},
   "outputs": [
    {
     "name": "stdout",
     "output_type": "stream",
     "text": [
      "\n",
      "explained_variance:  0.0203\n",
      "\n",
      "r2:  0.0203\n",
      "\n",
      "MAE:  20.4794\n",
      "\n",
      "MSE:  5305.2276\n",
      "\n",
      "RMSE:  72.837\n"
     ]
    }
   ],
   "source": [
    "LinRegModel_RFE = None\n",
    "LinRegModel_RFE = LinearRegression()\n",
    "\n",
    "LinRegModel_RFE.fit(X=XTrainRFE, y=YTrain)\n",
    "\n",
    "predictions = None\n",
    "predictions = LinRegModel_RFE.predict(XTestRFE)\n",
    "\n",
    "regressionResults(YTest.values, predictions)"
   ]
  },
  {
   "cell_type": "code",
   "execution_count": null,
   "id": "dying-civilization",
   "metadata": {},
   "outputs": [],
   "source": []
  },
  {
   "cell_type": "markdown",
   "id": "elementary-milwaukee",
   "metadata": {},
   "source": [
    "####  Select From Model"
   ]
  },
  {
   "cell_type": "code",
   "execution_count": 86,
   "id": "premium-royalty",
   "metadata": {},
   "outputs": [
    {
     "data": {
      "text/plain": [
       "Index(['X', 'ISI', 'temp', 'wind'], dtype='object')"
      ]
     },
     "execution_count": 86,
     "metadata": {},
     "output_type": "execute_result"
    }
   ],
   "source": [
    "SFMSelector = SelectFromModel(estimator=LinearRegression(), max_features = 4)\n",
    "\n",
    "SFMSelector.fit(XTrain, YTrain)\n",
    "\n",
    "XTrain.columns[SFMSelector.get_support()]"
   ]
  },
  {
   "cell_type": "code",
   "execution_count": 93,
   "id": "biblical-occurrence",
   "metadata": {},
   "outputs": [],
   "source": [
    "XTrainSFM = SFMSelector.transform(XTrain)\n",
    "XTestSFM = SFMSelector.transform(XTest)"
   ]
  },
  {
   "cell_type": "code",
   "execution_count": 94,
   "id": "mexican-prince",
   "metadata": {},
   "outputs": [],
   "source": [
    "XTrainSFM = pd.DataFrame(SFMSelector.transform(XTrain), columns = XTrain.columns[SFMSelector.get_support()])"
   ]
  },
  {
   "cell_type": "code",
   "execution_count": 95,
   "id": "parental-thong",
   "metadata": {},
   "outputs": [],
   "source": [
    "XTestSFM = pd.DataFrame(RFESelector.transform(XTest), columns = XTest.columns[SFMSelector.get_support()])"
   ]
  },
  {
   "cell_type": "code",
   "execution_count": 96,
   "id": "martial-rapid",
   "metadata": {},
   "outputs": [
    {
     "name": "stdout",
     "output_type": "stream",
     "text": [
      "\n",
      "explained_variance:  0.0203\n",
      "\n",
      "r2:  0.0203\n",
      "\n",
      "MAE:  20.4794\n",
      "\n",
      "MSE:  5305.2276\n",
      "\n",
      "RMSE:  72.837\n"
     ]
    }
   ],
   "source": [
    "LinRegModel_SFM = None\n",
    "LinRegModel_SFM = LinearRegression()\n",
    "\n",
    "LinRegModel_SFM.fit(X=XTrainSFM, y=YTrain)\n",
    "\n",
    "predictions = None\n",
    "predictions = LinRegModel_SFM.predict(XTestSFM)\n",
    "\n",
    "regressionResults(YTest.values, predictions)"
   ]
  },
  {
   "cell_type": "code",
   "execution_count": null,
   "id": "boolean-performer",
   "metadata": {},
   "outputs": [],
   "source": []
  },
  {
   "cell_type": "markdown",
   "id": "functional-poland",
   "metadata": {},
   "source": [
    "####  Sequential Feature Selection"
   ]
  },
  {
   "cell_type": "code",
   "execution_count": 102,
   "id": "plastic-tobacco",
   "metadata": {
    "scrolled": true
   },
   "outputs": [
    {
     "data": {
      "text/plain": [
       "Index(['X', 'Y', 'ISI', 'wind'], dtype='object')"
      ]
     },
     "execution_count": 102,
     "metadata": {},
     "output_type": "execute_result"
    }
   ],
   "source": [
    "SFSSelector = SequentialFeatureSelector(estimator=LinearRegression(), n_features_to_select = 4, direction ='backward')\n",
    "\n",
    "SFSSelector.fit(XTrain, YTrain)\n",
    "\n",
    "XTrain.columns[SFSSelector.get_support()]"
   ]
  },
  {
   "cell_type": "code",
   "execution_count": 103,
   "id": "romance-delight",
   "metadata": {},
   "outputs": [],
   "source": [
    "XTrainSFS = SFSSelector.transform(XTrain)\n",
    "XTestSFS = SFSSelector.transform(XTest)"
   ]
  },
  {
   "cell_type": "code",
   "execution_count": 104,
   "id": "dirty-reasoning",
   "metadata": {},
   "outputs": [],
   "source": [
    "XTrainSFS = pd.DataFrame(SFSSelector.transform(XTrain), columns = XTrain.columns[SFSSelector.get_support()])"
   ]
  },
  {
   "cell_type": "code",
   "execution_count": 105,
   "id": "indirect-soldier",
   "metadata": {},
   "outputs": [],
   "source": [
    "XTestSFS = pd.DataFrame(SFSSelector.transform(XTest), columns = XTest.columns[SFSSelector.get_support()])"
   ]
  },
  {
   "cell_type": "code",
   "execution_count": 106,
   "id": "center-reproduction",
   "metadata": {},
   "outputs": [
    {
     "name": "stdout",
     "output_type": "stream",
     "text": [
      "\n",
      "explained_variance:  0.0058\n",
      "\n",
      "r2:  0.0055\n",
      "\n",
      "MAE:  19.105\n",
      "\n",
      "MSE:  5385.2956\n",
      "\n",
      "RMSE:  73.3846\n"
     ]
    }
   ],
   "source": [
    "LinRegModel_SFS = None\n",
    "LinRegModel_SFS = LinearRegression()\n",
    "\n",
    "LinRegModel_SFS.fit(X=XTrainSFS, y=YTrain)\n",
    "\n",
    "predictions = None\n",
    "predictions = LinRegModel_SFS.predict(XTestSFS)\n",
    "\n",
    "regressionResults(YTest.values, predictions)"
   ]
  },
  {
   "cell_type": "code",
   "execution_count": null,
   "id": "exciting-surge",
   "metadata": {},
   "outputs": [],
   "source": []
  },
  {
   "cell_type": "code",
   "execution_count": null,
   "id": "biblical-creator",
   "metadata": {},
   "outputs": [],
   "source": []
  },
  {
   "cell_type": "code",
   "execution_count": null,
   "id": "regular-meditation",
   "metadata": {},
   "outputs": [],
   "source": []
  },
  {
   "cell_type": "code",
   "execution_count": null,
   "id": "accurate-photograph",
   "metadata": {},
   "outputs": [],
   "source": []
  },
  {
   "cell_type": "code",
   "execution_count": null,
   "id": "dying-binary",
   "metadata": {},
   "outputs": [],
   "source": []
  },
  {
   "cell_type": "markdown",
   "id": "aware-disco",
   "metadata": {},
   "source": [
    "### Regression (Transformations)"
   ]
  },
  {
   "cell_type": "markdown",
   "id": "polished-community",
   "metadata": {},
   "source": [
    "#### Try a bunch of different models on transformed data"
   ]
  },
  {
   "cell_type": "code",
   "execution_count": 114,
   "id": "nominated-model",
   "metadata": {},
   "outputs": [],
   "source": [
    "pt = PowerTransformer()\n",
    "ptY = PowerTransformer()\n",
    "\n",
    "pt.fit(XTrain)\n",
    "ptY.fit(YTrain)\n",
    "\n",
    "XTrainPT = pt.transform(XTrain)\n",
    "XTrainPTDF = pd.DataFrame(XTrainPT, columns=['X', 'Y', 'FFMC', 'DMC', 'DC', 'ISI', 'temp', 'RH', 'wind'])\n",
    "\n",
    "YTrainPT = ptY.transform(YTrain)\n",
    "YTrainPTDF = pd.DataFrame(YTrainPT, columns=['area'])"
   ]
  },
  {
   "cell_type": "code",
   "execution_count": 116,
   "id": "conventional-alias",
   "metadata": {},
   "outputs": [],
   "source": [
    "XTestPT = pt.transform(XTest)\n",
    "XTestPTDF = pd.DataFrame(XTestPT, columns=['X', 'Y', 'FFMC', 'DMC', 'DC', 'ISI', 'temp', 'RH', 'wind'])\n",
    "\n",
    "YTestPT = ptY.transform(YTest)\n",
    "YTestPTDF = pd.DataFrame(YTestPT, columns=['area'])"
   ]
  },
  {
   "cell_type": "code",
   "execution_count": 117,
   "id": "opponent-religious",
   "metadata": {},
   "outputs": [],
   "source": [
    "LinRegModelTransform = LinearRegression()"
   ]
  },
  {
   "cell_type": "code",
   "execution_count": 119,
   "id": "gothic-transparency",
   "metadata": {},
   "outputs": [],
   "source": [
    "LinRegModelTransform.fit(X=XTrainPTDF, y=YTrainPTDF)\n",
    "    \n",
    "predictions = LinRegModelTransform.predict(XTestPTDF)"
   ]
  },
  {
   "cell_type": "code",
   "execution_count": 120,
   "id": "remarkable-engineer",
   "metadata": {},
   "outputs": [],
   "source": [
    "actualPred = ptY.inverse_transform(predictions)"
   ]
  },
  {
   "cell_type": "code",
   "execution_count": 122,
   "id": "transsexual-robin",
   "metadata": {
    "scrolled": false
   },
   "outputs": [
    {
     "name": "stdout",
     "output_type": "stream",
     "text": [
      "\n",
      "explained_variance:  0.0024\n",
      "\n",
      "r2:  -0.0291\n",
      "\n",
      "MAE:  14.1737\n",
      "\n",
      "MSE:  5572.9097\n",
      "\n",
      "RMSE:  74.6519\n"
     ]
    }
   ],
   "source": [
    "regressionResults(YTest.values, actualPred)"
   ]
  },
  {
   "cell_type": "code",
   "execution_count": 124,
   "id": "dominican-acrylic",
   "metadata": {},
   "outputs": [
    {
     "data": {
      "text/plain": [
       "Text(0.5, 1.0, 'Daily Bike Share Predictions')"
      ]
     },
     "execution_count": 124,
     "metadata": {},
     "output_type": "execute_result"
    },
    {
     "data": {
      "image/png": "[encoded data removed]",
      "text/plain": [
       "<Figure size 432x288 with 1 Axes>"
      ]
     },
     "metadata": {
      "needs_background": "light"
     },
     "output_type": "display_data"
    }
   ],
   "source": [
    "plt.scatter(YTest.values, actualPred)\n",
    "plt.xlabel('Actual Labels')\n",
    "plt.ylabel('Predicted Labels')\n",
    "plt.title('Daily Bike Share Predictions')"
   ]
  },
  {
   "cell_type": "markdown",
   "id": "serial-associate",
   "metadata": {},
   "source": [
    "### Regression (Outliers removed)"
   ]
  },
  {
   "cell_type": "code",
   "execution_count": 127,
   "id": "cooked-bloom",
   "metadata": {},
   "outputs": [
    {
     "name": "stdout",
     "output_type": "stream",
     "text": [
      "\n",
      "explained_variance:  -0.021\n",
      "\n",
      "r2:  -0.0459\n",
      "\n",
      "MAE:  1.9925\n",
      "\n",
      "MSE:  6.8773\n",
      "\n",
      "RMSE:  2.6225\n"
     ]
    }
   ],
   "source": [
    "LinRegModelClean = LinearRegression()\n",
    "\n",
    "LinRegModelClean.fit(X=XCleanTrain, y=YCleanTrain)\n",
    "\n",
    "predictions = LinRegModelClean.predict(XCleanTest)\n",
    "\n",
    "regressionResults(YCleanTest.values, predictions)"
   ]
  },
  {
   "cell_type": "code",
   "execution_count": 128,
   "id": "stylish-velvet",
   "metadata": {},
   "outputs": [
    {
     "data": {
      "text/plain": [
       "Text(0.5, 1.0, 'Daily Bike Share Predictions')"
      ]
     },
     "execution_count": 128,
     "metadata": {},
     "output_type": "execute_result"
    },
    {
     "data": {
      "image/png": "[encoded data removed]",
      "text/plain": [
       "<Figure size 432x288 with 1 Axes>"
      ]
     },
     "metadata": {
      "needs_background": "light"
     },
     "output_type": "display_data"
    }
   ],
   "source": [
    "plt.scatter(YCleanTest.values, predictions)\n",
    "plt.xlabel('Actual Labels')\n",
    "plt.ylabel('Predicted Labels')\n",
    "plt.title('Daily Bike Share Predictions')"
   ]
  },
  {
   "cell_type": "markdown",
   "id": "induced-township",
   "metadata": {},
   "source": [
    "#### Transformations"
   ]
  },
  {
   "cell_type": "code",
   "execution_count": 129,
   "id": "collected-connectivity",
   "metadata": {},
   "outputs": [],
   "source": [
    "pt = PowerTransformer()\n",
    "\n",
    "pt.fit(XCleanTrain)\n",
    "\n",
    "XCleanTrainPT = pt.transform(XCleanTrain)\n",
    "\n",
    "XCleanTrainPTDF = pd.DataFrame(XCleanTrainPT, columns=['X', 'Y', 'FFMC', 'DMC', 'DC', 'ISI', 'temp', 'RH', 'wind'])"
   ]
  },
  {
   "cell_type": "code",
   "execution_count": 131,
   "id": "published-school",
   "metadata": {},
   "outputs": [],
   "source": [
    "XCleanTestPT = pt.transform(XCleanTest)\n",
    "\n",
    "XCleanTestPTDF = pd.DataFrame(XCleanTestPT, columns=['X', 'Y', 'FFMC', 'DMC', 'DC', 'ISI', 'temp', 'RH', 'wind'])\n",
    "\n",
    "## Here we are doing the same thing, but for the dependent variable 'SalePrice' exclusively\n",
    "ptY = PowerTransformer()\n",
    "\n",
    "# PowerTransformer requires a matrix/DataFrame\n",
    "ptY.fit(YCleanTrain)\n",
    "\n",
    "YCleanTrainPT = ptY.transform(YCleanTrain)\n",
    "YCleanTrainPTDF = pd.DataFrame(YCleanTrainPT, columns=['area'])\n",
    "\n",
    "YCleanTestPT = ptY.transform(YCleanTest)\n",
    "YCleanTestPTDF = pd.DataFrame(YCleanTestPT, columns=['area'])"
   ]
  },
  {
   "cell_type": "code",
   "execution_count": 132,
   "id": "interior-grove",
   "metadata": {},
   "outputs": [],
   "source": [
    "LinRegModelCleanTransform = LinearRegression()"
   ]
  },
  {
   "cell_type": "code",
   "execution_count": 134,
   "id": "bottom-objective",
   "metadata": {},
   "outputs": [],
   "source": [
    "LinRegModelCleanTransform.fit(X=XCleanTrainPTDF, y=YCleanTrainPTDF)\n",
    "    \n",
    "predictions = LinRegModelClean.predict(XCleanTestPTDF)"
   ]
  },
  {
   "cell_type": "code",
   "execution_count": 135,
   "id": "comfortable-dayton",
   "metadata": {},
   "outputs": [],
   "source": [
    "actualPred = ptY.inverse_transform(predictions)"
   ]
  },
  {
   "cell_type": "code",
   "execution_count": 136,
   "id": "fabulous-croatia",
   "metadata": {},
   "outputs": [
    {
     "name": "stdout",
     "output_type": "stream",
     "text": [
      "\n",
      "explained_variance:  -0.0051\n",
      "\n",
      "r2:  -0.3419\n",
      "\n",
      "MAE:  1.8517\n",
      "\n",
      "MSE:  8.8236\n",
      "\n",
      "RMSE:  2.9705\n"
     ]
    }
   ],
   "source": [
    "regressionResults(YCleanTest.values, actualPred)"
   ]
  },
  {
   "cell_type": "code",
   "execution_count": 137,
   "id": "consistent-desire",
   "metadata": {},
   "outputs": [
    {
     "data": {
      "text/plain": [
       "Text(0.5, 1.0, 'Daily Bike Share Predictions')"
      ]
     },
     "execution_count": 137,
     "metadata": {},
     "output_type": "execute_result"
    },
    {
     "data": {
      "image/png": "[encoded data removed]",
      "text/plain": [
       "<Figure size 432x288 with 1 Axes>"
      ]
     },
     "metadata": {
      "needs_background": "light"
     },
     "output_type": "display_data"
    }
   ],
   "source": [
    "plt.scatter(YCleanTest.values, actualPred)\n",
    "plt.xlabel('Actual Labels')\n",
    "plt.ylabel('Predicted Labels')\n",
    "plt.title('Daily Bike Share Predictions')"
   ]
  },
  {
   "cell_type": "code",
   "execution_count": null,
   "id": "brief-rainbow",
   "metadata": {},
   "outputs": [],
   "source": []
  }
 ],
 "metadata": {
  "kernelspec": {
   "display_name": "Python 3",
   "language": "python",
   "name": "python3"
  },
  "language_info": {
   "codemirror_mode": {
    "name": "ipython",
    "version": 3
   },
   "file_extension": ".py",
   "mimetype": "text/x-python",
   "name": "python",
   "nbconvert_exporter": "python",
   "pygments_lexer": "ipython3",
   "version": "3.8.8"
  }
 },
 "nbformat": 4,
 "nbformat_minor": 5
}
