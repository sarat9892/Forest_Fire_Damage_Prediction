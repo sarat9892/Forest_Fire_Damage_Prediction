{
 "cells": [
  {
   "cell_type": "code",
   "execution_count": 1,
   "id": "medieval-albany",
   "metadata": {},
   "outputs": [],
   "source": [
    "%config Completer.use_jedi = False"
   ]
  },
  {
   "cell_type": "markdown",
   "id": "norman-memory",
   "metadata": {},
   "source": [
    "### Importing libraries"
   ]
  },
  {
   "cell_type": "code",
   "execution_count": 2,
   "id": "young-bidding",
   "metadata": {},
   "outputs": [],
   "source": [
    "import pandas as pd\n",
    "import matplotlib.pyplot as plt\n",
    "import numpy as np\n",
    "import itertools\n",
    "import seaborn as sb\n",
    "import scipy\n",
    "\n",
    "from sklearn.model_selection import train_test_split\n",
    "\n",
    "from sklearn.linear_model import LogisticRegression, SGDClassifier\n",
    "from sklearn.ensemble import RandomForestClassifier, AdaBoostClassifier, BaggingClassifier, GradientBoostingClassifier\n",
    "from sklearn.svm import SVC, LinearSVC, LinearSVR, SVR\n",
    "from sklearn import tree\n",
    "\n",
    "\n",
    "from sklearn.preprocessing import StandardScaler, PowerTransformer\n",
    "\n",
    "\n",
    "from sklearn.metrics import roc_auc_score\n",
    "from sklearn.metrics import roc_curve\n",
    "from sklearn.metrics import confusion_matrix\n",
    "from sklearn.metrics import precision_score, recall_score\n",
    "from sklearn.metrics import accuracy_score, classification_report\n",
    "\n",
    "from sklearn.metrics import make_scorer, r2_score, mean_squared_error\n",
    "from sklearn import metrics\n",
    "\n",
    "\n",
    "%matplotlib inline"
   ]
  },
  {
   "cell_type": "markdown",
   "id": "usual-antibody",
   "metadata": {},
   "source": [
    "### Loading the data"
   ]
  },
  {
   "cell_type": "code",
   "execution_count": 3,
   "id": "straight-estimate",
   "metadata": {},
   "outputs": [],
   "source": [
    "rawData = pd.read_csv('./data/forestfires.csv')"
   ]
  },
  {
   "cell_type": "code",
   "execution_count": 4,
   "id": "mechanical-singer",
   "metadata": {},
   "outputs": [],
   "source": [
    "rawData.drop(labels=['rain'], axis = 1, inplace=True)"
   ]
  },
  {
   "cell_type": "markdown",
   "id": "distant-thursday",
   "metadata": {},
   "source": [
    "#### Create the Burn Flag"
   ]
  },
  {
   "cell_type": "markdown",
   "id": "union-indicator",
   "metadata": {},
   "source": [
    "##### Add a flag column\n",
    "\n",
    "##### 0 Burn = 0\n",
    "##### Non 0 burn = 1"
   ]
  },
  {
   "cell_type": "code",
   "execution_count": 5,
   "id": "amino-moses",
   "metadata": {},
   "outputs": [],
   "source": [
    "areaValues = rawData[['area']].values"
   ]
  },
  {
   "cell_type": "code",
   "execution_count": 6,
   "id": "compact-nepal",
   "metadata": {},
   "outputs": [],
   "source": [
    "areaFlag = []\n",
    "\n",
    "for each in areaValues:\n",
    "    \n",
    "    if each[0] == 0:\n",
    "        \n",
    "        areaFlag.append(0)\n",
    "        \n",
    "    else:\n",
    "        \n",
    "        areaFlag.append(1)"
   ]
  },
  {
   "cell_type": "code",
   "execution_count": 7,
   "id": "horizontal-television",
   "metadata": {},
   "outputs": [],
   "source": [
    "rawData['burn'] = areaFlag"
   ]
  },
  {
   "cell_type": "markdown",
   "id": "adult-coach",
   "metadata": {},
   "source": [
    "#### Train/Test split both the datasets"
   ]
  },
  {
   "cell_type": "code",
   "execution_count": 8,
   "id": "interracial-improvement",
   "metadata": {},
   "outputs": [],
   "source": [
    "X, Y = rawData[['X', 'Y', 'FFMC', 'DMC', 'DC', 'ISI', 'temp', 'RH', 'wind', 'area']], rawData[['burn']]"
   ]
  },
  {
   "cell_type": "code",
   "execution_count": 9,
   "id": "bored-flour",
   "metadata": {
    "scrolled": true
   },
   "outputs": [],
   "source": [
    "XTrain, XTest, YTrain, YTest = train_test_split(X, Y, test_size=0.20, random_state=9892)"
   ]
  },
  {
   "cell_type": "code",
   "execution_count": 10,
   "id": "boxed-louisville",
   "metadata": {},
   "outputs": [],
   "source": [
    "regressionData = XTrain[XTrain['area'] != 0]"
   ]
  },
  {
   "cell_type": "code",
   "execution_count": 11,
   "id": "scheduled-aspect",
   "metadata": {},
   "outputs": [],
   "source": [
    "regression_X, regression_Y = regressionData[['X', 'Y', 'FFMC', 'DMC', 'DC', 'ISI', 'temp', 'RH', 'wind']], regressionData[['area']]"
   ]
  },
  {
   "cell_type": "code",
   "execution_count": 12,
   "id": "rural-ultimate",
   "metadata": {},
   "outputs": [],
   "source": [
    "XTrain = XTrain.drop(columns=['area'])"
   ]
  },
  {
   "cell_type": "code",
   "execution_count": 13,
   "id": "varied-crossing",
   "metadata": {},
   "outputs": [],
   "source": [
    "XTest_Areas = XTest['area']"
   ]
  },
  {
   "cell_type": "code",
   "execution_count": 14,
   "id": "requested-toner",
   "metadata": {},
   "outputs": [],
   "source": [
    "XTest = XTest.drop(columns=['area'])"
   ]
  },
  {
   "cell_type": "markdown",
   "id": "pending-prime",
   "metadata": {},
   "source": [
    "### Classifications (Transformations)"
   ]
  },
  {
   "cell_type": "code",
   "execution_count": 15,
   "id": "adequate-trauma",
   "metadata": {},
   "outputs": [],
   "source": [
    "pt = PowerTransformer()\n",
    "\n",
    "pt.fit(XTrain)\n",
    "\n",
    "XTrainPT = pt.transform(XTrain)\n",
    "\n",
    "XTrainPT = pd.DataFrame(XTrainPT, columns=['X', 'Y', 'FFMC', 'DMC', 'DC', 'ISI', 'temp', 'RH', 'wind'])\n",
    "\n",
    "XTestPT = pt.transform(XTest)\n",
    "\n",
    "XTestPT = pd.DataFrame(XTestPT, columns=['X', 'Y', 'FFMC', 'DMC', 'DC', 'ISI', 'temp', 'RH', 'wind'])"
   ]
  },
  {
   "cell_type": "code",
   "execution_count": null,
   "id": "driven-channels",
   "metadata": {},
   "outputs": [],
   "source": []
  },
  {
   "cell_type": "code",
   "execution_count": 16,
   "id": "printable-spiritual",
   "metadata": {},
   "outputs": [],
   "source": [
    "sc = StandardScaler()\n",
    "\n",
    "sc.fit(XTrain)\n",
    "\n",
    "XTrainSC = sc.transform(XTrain)\n",
    "\n",
    "XTrainSC = pd.DataFrame(XTrainSC, columns=['X', 'Y', 'FFMC', 'DMC', 'DC', 'ISI', 'temp', 'RH', 'wind'])\n",
    "\n",
    "XTestSC = sc.transform(XTest)\n",
    "\n",
    "XTestSC = pd.DataFrame(XTestSC, columns=['X', 'Y', 'FFMC', 'DMC', 'DC', 'ISI', 'temp', 'RH', 'wind'])"
   ]
  },
  {
   "cell_type": "code",
   "execution_count": null,
   "id": "tracked-orchestra",
   "metadata": {},
   "outputs": [],
   "source": []
  },
  {
   "cell_type": "code",
   "execution_count": 17,
   "id": "psychological-raising",
   "metadata": {},
   "outputs": [
    {
     "name": "stdout",
     "output_type": "stream",
     "text": [
      "Training Set: 413 rows\n",
      "\n",
      "Test Set: 104 rows\n"
     ]
    }
   ],
   "source": [
    "print ('Training Set: {} rows\\n\\nTest Set: {} rows'.format(XTrain.shape[0], XTest.shape[0]))"
   ]
  },
  {
   "cell_type": "markdown",
   "id": "listed-button",
   "metadata": {},
   "source": [
    "### Classification"
   ]
  },
  {
   "cell_type": "code",
   "execution_count": 18,
   "id": "inner-luxury",
   "metadata": {},
   "outputs": [],
   "source": [
    "def evaluateModel(model, XTest, YTest):\n",
    "    \n",
    "    prediction = None\n",
    "    predictions = model.predict(XTest)\n",
    "\n",
    "    print('Accuracy: ', accuracy_score(YTest, predictions))\n",
    "    print(\"Precision:\",precision_score(YTest, predictions))\n",
    "    print(\"Recall:\",recall_score(YTest, predictions))\n",
    "    \n",
    "    return predictions"
   ]
  },
  {
   "cell_type": "code",
   "execution_count": 19,
   "id": "functional-sunday",
   "metadata": {},
   "outputs": [],
   "source": [
    "def confusionMatrix(model, XTest, YTest):\n",
    "\n",
    "    prediction = None\n",
    "    predictions = model.predict(XTest)\n",
    "\n",
    "\n",
    "    # Print the confusion matrix\n",
    "    cm = confusion_matrix(YTest, predictions)\n",
    "\n",
    "    plt.figure(figsize=(8, 8))\n",
    "    plt.imshow(cm, interpolation='nearest', cmap=plt.cm.Blues)\n",
    "    plt.title(\"Confusion matrix\", fontsize = 20)\n",
    "    plt.colorbar()\n",
    "\n",
    "    classNames = ['no burn', 'burn']\n",
    "\n",
    "    tick_marks = np.arange(len(classNames))\n",
    "\n",
    "    plt.xticks(tick_marks, classNames, fontsize = 20)\n",
    "    plt.yticks(tick_marks, classNames, fontsize = 20)\n",
    "\n",
    "    # Compute the labels from the normalized confusion matrix.\n",
    "    labels = np.around(cm.astype('int'))\n",
    "\n",
    "    # Use white text if squares are dark; otherwise black.\n",
    "    threshold = cm.max() / 2.\n",
    "\n",
    "    for i, j in itertools.product(range(cm.shape[0]), range(cm.shape[1])):\n",
    "      color = \"white\" if cm[i, j] > threshold else \"black\"\n",
    "      plt.text(j, i, labels[i, j], horizontalalignment=\"center\", color=color, fontsize = 20)\n",
    "\n",
    "    plt.tight_layout()\n",
    "    plt.ylabel('True label', fontsize = 20)\n",
    "    plt.xlabel('Predicted label', fontsize = 20)\n",
    "    plt.show()"
   ]
  },
  {
   "cell_type": "code",
   "execution_count": 20,
   "id": "racial-senior",
   "metadata": {},
   "outputs": [],
   "source": [
    "def ROCCurve(model, XTest, YTest):\n",
    "\n",
    "    YScores = model.predict_proba(XTest)\n",
    "\n",
    "    # calculate ROC curve\n",
    "    fpr, tpr, thresholds = roc_curve(YTest, YScores[:,1])\n",
    "\n",
    "    # plot ROC curve\n",
    "    fig = plt.figure(figsize=(9, 9))\n",
    "    # Plot the diagonal 50% line\n",
    "    plt.plot([0, 1], [0, 1], 'k--')\n",
    "    # Plot the FPR and TPR achieved by our model\n",
    "    plt.plot(fpr, tpr)\n",
    "    plt.xlabel('False Positive Rate', fontsize = 20)\n",
    "    plt.ylabel('True Positive Rate', fontsize = 20)\n",
    "    plt.title('ROC Curve', fontsize = 20)\n",
    "    plt.show()\n",
    "\n",
    "    auc = roc_auc_score(YTest,YScores[:,1])\n",
    "    print('\\nAUC: ' + str(auc))"
   ]
  },
  {
   "cell_type": "code",
   "execution_count": null,
   "id": "deluxe-christopher",
   "metadata": {},
   "outputs": [],
   "source": []
  },
  {
   "cell_type": "code",
   "execution_count": null,
   "id": "approximate-detail",
   "metadata": {},
   "outputs": [],
   "source": []
  },
  {
   "cell_type": "code",
   "execution_count": null,
   "id": "discrete-vulnerability",
   "metadata": {},
   "outputs": [],
   "source": []
  },
  {
   "cell_type": "code",
   "execution_count": null,
   "id": "smaller-spirit",
   "metadata": {},
   "outputs": [],
   "source": []
  },
  {
   "cell_type": "code",
   "execution_count": null,
   "id": "institutional-mexican",
   "metadata": {},
   "outputs": [],
   "source": []
  },
  {
   "cell_type": "code",
   "execution_count": null,
   "id": "compact-niagara",
   "metadata": {},
   "outputs": [],
   "source": []
  },
  {
   "cell_type": "code",
   "execution_count": null,
   "id": "suburban-blake",
   "metadata": {},
   "outputs": [],
   "source": []
  },
  {
   "cell_type": "code",
   "execution_count": 21,
   "id": "surprising-initial",
   "metadata": {
    "scrolled": false
   },
   "outputs": [
    {
     "name": "stdout",
     "output_type": "stream",
     "text": [
      "GradientBoostingClassifier()\n",
      "\n",
      "\n",
      "Accuracy:  0.5865384615384616\n",
      "Precision: 0.5873015873015873\n",
      "Recall: 0.6851851851851852\n"
     ]
    },
    {
     "data": {
      "image/png": "[encoded data removed]",
      "text/plain": [
       "<Figure size 576x576 with 2 Axes>"
      ]
     },
     "metadata": {
      "needs_background": "light"
     },
     "output_type": "display_data"
    },
    {
     "data": {
      "image/png": "[encoded data removed]",
      "text/plain": [
       "<Figure size 648x648 with 1 Axes>"
      ]
     },
     "metadata": {
      "needs_background": "light"
     },
     "output_type": "display_data"
    },
    {
     "name": "stdout",
     "output_type": "stream",
     "text": [
      "\n",
      "AUC: 0.5320370370370371\n"
     ]
    }
   ],
   "source": [
    "model = None\n",
    "model = GradientBoostingClassifier().fit(XTrain, YTrain['burn'])\n",
    "\n",
    "print (model)\n",
    "print('\\n')\n",
    "\n",
    "predsGradBoost = evaluateModel(model, XTest, YTest)\n",
    "confusionMatrix(model, XTest, YTest)\n",
    "ROCCurve(model, XTest, YTest)"
   ]
  },
  {
   "cell_type": "code",
   "execution_count": 22,
   "id": "subtle-couple",
   "metadata": {
    "scrolled": false
   },
   "outputs": [
    {
     "name": "stdout",
     "output_type": "stream",
     "text": [
      "SVC(probability=True)\n",
      "\n",
      "\n",
      "Accuracy:  0.5961538461538461\n",
      "Precision: 0.5666666666666667\n",
      "Recall: 0.9444444444444444\n"
     ]
    },
    {
     "data": {
      "image/png": "[encoded data removed]",
      "text/plain": [
       "<Figure size 576x576 with 2 Axes>"
      ]
     },
     "metadata": {
      "needs_background": "light"
     },
     "output_type": "display_data"
    },
    {
     "data": {
      "image/png": "[encoded data removed]",
      "text/plain": [
       "<Figure size 648x648 with 1 Axes>"
      ]
     },
     "metadata": {
      "needs_background": "light"
     },
     "output_type": "display_data"
    },
    {
     "name": "stdout",
     "output_type": "stream",
     "text": [
      "\n",
      "AUC: 0.5592592592592592\n"
     ]
    }
   ],
   "source": [
    "model = None\n",
    "model = SVC(probability=True).fit(XTrain, YTrain['burn'])\n",
    "\n",
    "print (model)\n",
    "print('\\n')\n",
    "\n",
    "predsSVC = evaluateModel(model, XTest, YTest)\n",
    "confusionMatrix(model, XTest, YTest)\n",
    "ROCCurve(model, XTest, YTest)"
   ]
  },
  {
   "cell_type": "code",
   "execution_count": null,
   "id": "civil-gender",
   "metadata": {},
   "outputs": [],
   "source": []
  },
  {
   "cell_type": "code",
   "execution_count": 23,
   "id": "global-fundamental",
   "metadata": {},
   "outputs": [
    {
     "data": {
      "text/html": [
       "<div>\n",
       "<style scoped>\n",
       "    .dataframe tbody tr th:only-of-type {\n",
       "        vertical-align: middle;\n",
       "    }\n",
       "\n",
       "    .dataframe tbody tr th {\n",
       "        vertical-align: top;\n",
       "    }\n",
       "\n",
       "    .dataframe thead th {\n",
       "        text-align: right;\n",
       "    }\n",
       "</style>\n",
       "<table border=\"1\" class=\"dataframe\">\n",
       "  <thead>\n",
       "    <tr style=\"text-align: right;\">\n",
       "      <th></th>\n",
       "      <th>X</th>\n",
       "      <th>Y</th>\n",
       "      <th>FFMC</th>\n",
       "      <th>DMC</th>\n",
       "      <th>DC</th>\n",
       "      <th>ISI</th>\n",
       "      <th>temp</th>\n",
       "      <th>RH</th>\n",
       "      <th>wind</th>\n",
       "    </tr>\n",
       "  </thead>\n",
       "  <tbody>\n",
       "    <tr>\n",
       "      <th>399</th>\n",
       "      <td>9</td>\n",
       "      <td>5</td>\n",
       "      <td>93.3</td>\n",
       "      <td>49.5</td>\n",
       "      <td>297.7</td>\n",
       "      <td>14.0</td>\n",
       "      <td>28.0</td>\n",
       "      <td>34</td>\n",
       "      <td>4.5</td>\n",
       "    </tr>\n",
       "    <tr>\n",
       "      <th>340</th>\n",
       "      <td>2</td>\n",
       "      <td>5</td>\n",
       "      <td>91.6</td>\n",
       "      <td>108.4</td>\n",
       "      <td>764.0</td>\n",
       "      <td>6.2</td>\n",
       "      <td>19.3</td>\n",
       "      <td>44</td>\n",
       "      <td>2.2</td>\n",
       "    </tr>\n",
       "    <tr>\n",
       "      <th>505</th>\n",
       "      <td>1</td>\n",
       "      <td>2</td>\n",
       "      <td>91.0</td>\n",
       "      <td>163.2</td>\n",
       "      <td>744.4</td>\n",
       "      <td>10.1</td>\n",
       "      <td>26.7</td>\n",
       "      <td>35</td>\n",
       "      <td>1.8</td>\n",
       "    </tr>\n",
       "    <tr>\n",
       "      <th>47</th>\n",
       "      <td>6</td>\n",
       "      <td>6</td>\n",
       "      <td>94.2</td>\n",
       "      <td>62.3</td>\n",
       "      <td>442.9</td>\n",
       "      <td>11.0</td>\n",
       "      <td>23.0</td>\n",
       "      <td>36</td>\n",
       "      <td>3.1</td>\n",
       "    </tr>\n",
       "    <tr>\n",
       "      <th>210</th>\n",
       "      <td>4</td>\n",
       "      <td>4</td>\n",
       "      <td>90.6</td>\n",
       "      <td>43.7</td>\n",
       "      <td>686.9</td>\n",
       "      <td>6.7</td>\n",
       "      <td>18.4</td>\n",
       "      <td>25</td>\n",
       "      <td>3.1</td>\n",
       "    </tr>\n",
       "    <tr>\n",
       "      <th>...</th>\n",
       "      <td>...</td>\n",
       "      <td>...</td>\n",
       "      <td>...</td>\n",
       "      <td>...</td>\n",
       "      <td>...</td>\n",
       "      <td>...</td>\n",
       "      <td>...</td>\n",
       "      <td>...</td>\n",
       "      <td>...</td>\n",
       "    </tr>\n",
       "    <tr>\n",
       "      <th>429</th>\n",
       "      <td>3</td>\n",
       "      <td>4</td>\n",
       "      <td>91.6</td>\n",
       "      <td>181.3</td>\n",
       "      <td>613.0</td>\n",
       "      <td>7.6</td>\n",
       "      <td>24.6</td>\n",
       "      <td>44</td>\n",
       "      <td>4.0</td>\n",
       "    </tr>\n",
       "    <tr>\n",
       "      <th>325</th>\n",
       "      <td>1</td>\n",
       "      <td>4</td>\n",
       "      <td>92.2</td>\n",
       "      <td>102.3</td>\n",
       "      <td>751.5</td>\n",
       "      <td>8.4</td>\n",
       "      <td>24.2</td>\n",
       "      <td>27</td>\n",
       "      <td>3.1</td>\n",
       "    </tr>\n",
       "    <tr>\n",
       "      <th>279</th>\n",
       "      <td>4</td>\n",
       "      <td>4</td>\n",
       "      <td>85.4</td>\n",
       "      <td>25.4</td>\n",
       "      <td>349.7</td>\n",
       "      <td>2.6</td>\n",
       "      <td>4.6</td>\n",
       "      <td>21</td>\n",
       "      <td>8.5</td>\n",
       "    </tr>\n",
       "    <tr>\n",
       "      <th>150</th>\n",
       "      <td>6</td>\n",
       "      <td>5</td>\n",
       "      <td>92.5</td>\n",
       "      <td>56.4</td>\n",
       "      <td>433.3</td>\n",
       "      <td>7.1</td>\n",
       "      <td>23.2</td>\n",
       "      <td>39</td>\n",
       "      <td>5.4</td>\n",
       "    </tr>\n",
       "    <tr>\n",
       "      <th>448</th>\n",
       "      <td>7</td>\n",
       "      <td>4</td>\n",
       "      <td>89.7</td>\n",
       "      <td>284.9</td>\n",
       "      <td>844.0</td>\n",
       "      <td>10.1</td>\n",
       "      <td>10.5</td>\n",
       "      <td>77</td>\n",
       "      <td>4.0</td>\n",
       "    </tr>\n",
       "  </tbody>\n",
       "</table>\n",
       "<p>104 rows × 9 columns</p>\n",
       "</div>"
      ],
      "text/plain": [
       "     X  Y  FFMC    DMC     DC   ISI  temp  RH  wind\n",
       "399  9  5  93.3   49.5  297.7  14.0  28.0  34   4.5\n",
       "340  2  5  91.6  108.4  764.0   6.2  19.3  44   2.2\n",
       "505  1  2  91.0  163.2  744.4  10.1  26.7  35   1.8\n",
       "47   6  6  94.2   62.3  442.9  11.0  23.0  36   3.1\n",
       "210  4  4  90.6   43.7  686.9   6.7  18.4  25   3.1\n",
       "..  .. ..   ...    ...    ...   ...   ...  ..   ...\n",
       "429  3  4  91.6  181.3  613.0   7.6  24.6  44   4.0\n",
       "325  1  4  92.2  102.3  751.5   8.4  24.2  27   3.1\n",
       "279  4  4  85.4   25.4  349.7   2.6   4.6  21   8.5\n",
       "150  6  5  92.5   56.4  433.3   7.1  23.2  39   5.4\n",
       "448  7  4  89.7  284.9  844.0  10.1  10.5  77   4.0\n",
       "\n",
       "[104 rows x 9 columns]"
      ]
     },
     "execution_count": 23,
     "metadata": {},
     "output_type": "execute_result"
    }
   ],
   "source": [
    "XTest"
   ]
  },
  {
   "cell_type": "code",
   "execution_count": 24,
   "id": "unlikely-badge",
   "metadata": {
    "scrolled": true
   },
   "outputs": [
    {
     "data": {
      "text/plain": [
       "array([1, 1, 1, 1, 1, 1, 1, 1, 1, 1, 1, 0, 1, 1, 1, 1, 1, 1, 1, 1, 1, 1,\n",
       "       0, 1, 1, 1, 1, 1, 1, 1, 1, 1, 1, 1, 1, 1, 1, 1, 1, 1, 0, 1, 1, 1,\n",
       "       1, 1, 1, 0, 1, 1, 1, 0, 1, 1, 1, 1, 1, 0, 1, 1, 1, 1, 1, 1, 1, 1,\n",
       "       1, 1, 0, 1, 1, 0, 1, 0, 1, 1, 0, 0, 0, 1, 1, 0, 1, 0, 1, 1, 1, 1,\n",
       "       1, 1, 1, 1, 1, 1, 1, 1, 1, 1, 1, 1, 1, 1, 1, 1], dtype=int64)"
      ]
     },
     "execution_count": 24,
     "metadata": {},
     "output_type": "execute_result"
    }
   ],
   "source": [
    "predsSVC"
   ]
  },
  {
   "cell_type": "code",
   "execution_count": 25,
   "id": "comfortable-formula",
   "metadata": {
    "scrolled": false
   },
   "outputs": [
    {
     "data": {
      "text/html": [
       "<div>\n",
       "<style scoped>\n",
       "    .dataframe tbody tr th:only-of-type {\n",
       "        vertical-align: middle;\n",
       "    }\n",
       "\n",
       "    .dataframe tbody tr th {\n",
       "        vertical-align: top;\n",
       "    }\n",
       "\n",
       "    .dataframe thead th {\n",
       "        text-align: right;\n",
       "    }\n",
       "</style>\n",
       "<table border=\"1\" class=\"dataframe\">\n",
       "  <thead>\n",
       "    <tr style=\"text-align: right;\">\n",
       "      <th></th>\n",
       "      <th>X</th>\n",
       "      <th>Y</th>\n",
       "      <th>FFMC</th>\n",
       "      <th>DMC</th>\n",
       "      <th>DC</th>\n",
       "      <th>ISI</th>\n",
       "      <th>temp</th>\n",
       "      <th>RH</th>\n",
       "      <th>wind</th>\n",
       "    </tr>\n",
       "  </thead>\n",
       "  <tbody>\n",
       "    <tr>\n",
       "      <th>399</th>\n",
       "      <td>9</td>\n",
       "      <td>5</td>\n",
       "      <td>93.3</td>\n",
       "      <td>49.5</td>\n",
       "      <td>297.7</td>\n",
       "      <td>14.0</td>\n",
       "      <td>28.0</td>\n",
       "      <td>34</td>\n",
       "      <td>4.5</td>\n",
       "    </tr>\n",
       "    <tr>\n",
       "      <th>340</th>\n",
       "      <td>2</td>\n",
       "      <td>5</td>\n",
       "      <td>91.6</td>\n",
       "      <td>108.4</td>\n",
       "      <td>764.0</td>\n",
       "      <td>6.2</td>\n",
       "      <td>19.3</td>\n",
       "      <td>44</td>\n",
       "      <td>2.2</td>\n",
       "    </tr>\n",
       "    <tr>\n",
       "      <th>505</th>\n",
       "      <td>1</td>\n",
       "      <td>2</td>\n",
       "      <td>91.0</td>\n",
       "      <td>163.2</td>\n",
       "      <td>744.4</td>\n",
       "      <td>10.1</td>\n",
       "      <td>26.7</td>\n",
       "      <td>35</td>\n",
       "      <td>1.8</td>\n",
       "    </tr>\n",
       "    <tr>\n",
       "      <th>47</th>\n",
       "      <td>6</td>\n",
       "      <td>6</td>\n",
       "      <td>94.2</td>\n",
       "      <td>62.3</td>\n",
       "      <td>442.9</td>\n",
       "      <td>11.0</td>\n",
       "      <td>23.0</td>\n",
       "      <td>36</td>\n",
       "      <td>3.1</td>\n",
       "    </tr>\n",
       "    <tr>\n",
       "      <th>210</th>\n",
       "      <td>4</td>\n",
       "      <td>4</td>\n",
       "      <td>90.6</td>\n",
       "      <td>43.7</td>\n",
       "      <td>686.9</td>\n",
       "      <td>6.7</td>\n",
       "      <td>18.4</td>\n",
       "      <td>25</td>\n",
       "      <td>3.1</td>\n",
       "    </tr>\n",
       "    <tr>\n",
       "      <th>...</th>\n",
       "      <td>...</td>\n",
       "      <td>...</td>\n",
       "      <td>...</td>\n",
       "      <td>...</td>\n",
       "      <td>...</td>\n",
       "      <td>...</td>\n",
       "      <td>...</td>\n",
       "      <td>...</td>\n",
       "      <td>...</td>\n",
       "    </tr>\n",
       "    <tr>\n",
       "      <th>429</th>\n",
       "      <td>3</td>\n",
       "      <td>4</td>\n",
       "      <td>91.6</td>\n",
       "      <td>181.3</td>\n",
       "      <td>613.0</td>\n",
       "      <td>7.6</td>\n",
       "      <td>24.6</td>\n",
       "      <td>44</td>\n",
       "      <td>4.0</td>\n",
       "    </tr>\n",
       "    <tr>\n",
       "      <th>325</th>\n",
       "      <td>1</td>\n",
       "      <td>4</td>\n",
       "      <td>92.2</td>\n",
       "      <td>102.3</td>\n",
       "      <td>751.5</td>\n",
       "      <td>8.4</td>\n",
       "      <td>24.2</td>\n",
       "      <td>27</td>\n",
       "      <td>3.1</td>\n",
       "    </tr>\n",
       "    <tr>\n",
       "      <th>279</th>\n",
       "      <td>4</td>\n",
       "      <td>4</td>\n",
       "      <td>85.4</td>\n",
       "      <td>25.4</td>\n",
       "      <td>349.7</td>\n",
       "      <td>2.6</td>\n",
       "      <td>4.6</td>\n",
       "      <td>21</td>\n",
       "      <td>8.5</td>\n",
       "    </tr>\n",
       "    <tr>\n",
       "      <th>150</th>\n",
       "      <td>6</td>\n",
       "      <td>5</td>\n",
       "      <td>92.5</td>\n",
       "      <td>56.4</td>\n",
       "      <td>433.3</td>\n",
       "      <td>7.1</td>\n",
       "      <td>23.2</td>\n",
       "      <td>39</td>\n",
       "      <td>5.4</td>\n",
       "    </tr>\n",
       "    <tr>\n",
       "      <th>448</th>\n",
       "      <td>7</td>\n",
       "      <td>4</td>\n",
       "      <td>89.7</td>\n",
       "      <td>284.9</td>\n",
       "      <td>844.0</td>\n",
       "      <td>10.1</td>\n",
       "      <td>10.5</td>\n",
       "      <td>77</td>\n",
       "      <td>4.0</td>\n",
       "    </tr>\n",
       "  </tbody>\n",
       "</table>\n",
       "<p>104 rows × 9 columns</p>\n",
       "</div>"
      ],
      "text/plain": [
       "     X  Y  FFMC    DMC     DC   ISI  temp  RH  wind\n",
       "399  9  5  93.3   49.5  297.7  14.0  28.0  34   4.5\n",
       "340  2  5  91.6  108.4  764.0   6.2  19.3  44   2.2\n",
       "505  1  2  91.0  163.2  744.4  10.1  26.7  35   1.8\n",
       "47   6  6  94.2   62.3  442.9  11.0  23.0  36   3.1\n",
       "210  4  4  90.6   43.7  686.9   6.7  18.4  25   3.1\n",
       "..  .. ..   ...    ...    ...   ...   ...  ..   ...\n",
       "429  3  4  91.6  181.3  613.0   7.6  24.6  44   4.0\n",
       "325  1  4  92.2  102.3  751.5   8.4  24.2  27   3.1\n",
       "279  4  4  85.4   25.4  349.7   2.6   4.6  21   8.5\n",
       "150  6  5  92.5   56.4  433.3   7.1  23.2  39   5.4\n",
       "448  7  4  89.7  284.9  844.0  10.1  10.5  77   4.0\n",
       "\n",
       "[104 rows x 9 columns]"
      ]
     },
     "execution_count": 25,
     "metadata": {},
     "output_type": "execute_result"
    }
   ],
   "source": [
    "XTest"
   ]
  },
  {
   "cell_type": "code",
   "execution_count": 26,
   "id": "received-return",
   "metadata": {},
   "outputs": [],
   "source": [
    "XTest['burnpred'] = predsGradBoost"
   ]
  },
  {
   "cell_type": "code",
   "execution_count": 27,
   "id": "medium-newport",
   "metadata": {},
   "outputs": [],
   "source": [
    "XTest_Burns = XTest[XTest['burnpred'] == 1]"
   ]
  },
  {
   "cell_type": "code",
   "execution_count": 28,
   "id": "optional-external",
   "metadata": {},
   "outputs": [],
   "source": [
    "XTest_NoBurns = XTest[XTest['burnpred'] == 0]"
   ]
  },
  {
   "cell_type": "code",
   "execution_count": 29,
   "id": "powerful-framing",
   "metadata": {},
   "outputs": [],
   "source": [
    "XTest_Reg = XTest_Burns.drop(columns = ['burnpred'])"
   ]
  },
  {
   "cell_type": "code",
   "execution_count": 30,
   "id": "confused-dodge",
   "metadata": {},
   "outputs": [
    {
     "name": "stderr",
     "output_type": "stream",
     "text": [
      "D:\\Software\\Anaconda3\\envs\\MachineLearning\\lib\\site-packages\\sklearn\\utils\\validation.py:63: DataConversionWarning: A column-vector y was passed when a 1d array was expected. Please change the shape of y to (n_samples, ), for example using ravel().\n",
      "  return f(*args, **kwargs)\n"
     ]
    }
   ],
   "source": [
    "Burn_SVR = None\n",
    "Burn_SVR = SVR()\n",
    "\n",
    "Burn_SVR.fit(X = regression_X, y = regression_Y)\n",
    "\n",
    "predictions = None\n",
    "predictions = Burn_SVR.predict(XTest_Reg)\n",
    "\n",
    "# regressionResults(YTest.values, predictions)\n",
    "# residualPlots(YTest.values, predictions)"
   ]
  },
  {
   "cell_type": "code",
   "execution_count": null,
   "id": "durable-latest",
   "metadata": {},
   "outputs": [],
   "source": []
  },
  {
   "cell_type": "code",
   "execution_count": 31,
   "id": "powerful-dialogue",
   "metadata": {},
   "outputs": [
    {
     "name": "stderr",
     "output_type": "stream",
     "text": [
      "<ipython-input-31-490e5294247c>:1: SettingWithCopyWarning: \n",
      "A value is trying to be set on a copy of a slice from a DataFrame.\n",
      "Try using .loc[row_indexer,col_indexer] = value instead\n",
      "\n",
      "See the caveats in the documentation: https://pandas.pydata.org/pandas-docs/stable/user_guide/indexing.html#returning-a-view-versus-a-copy\n",
      "  XTest_Burns['burnpred'] = predictions\n"
     ]
    }
   ],
   "source": [
    "XTest_Burns['burnpred'] = predictions"
   ]
  },
  {
   "cell_type": "code",
   "execution_count": null,
   "id": "close-argentina",
   "metadata": {},
   "outputs": [],
   "source": []
  },
  {
   "cell_type": "code",
   "execution_count": 32,
   "id": "recovered-passing",
   "metadata": {},
   "outputs": [],
   "source": [
    "XTest_Burns = XTest_Burns[['burnpred']].reset_index()"
   ]
  },
  {
   "cell_type": "code",
   "execution_count": 33,
   "id": "addressed-croatia",
   "metadata": {},
   "outputs": [],
   "source": [
    "for index, row in XTest_Burns.iterrows():\n",
    "    \n",
    "    XTest.loc[row['index'], 'burnpred'] = row['burnpred']"
   ]
  },
  {
   "cell_type": "code",
   "execution_count": null,
   "id": "corrected-elimination",
   "metadata": {},
   "outputs": [],
   "source": []
  },
  {
   "cell_type": "code",
   "execution_count": null,
   "id": "intelligent-grove",
   "metadata": {},
   "outputs": [],
   "source": []
  },
  {
   "cell_type": "code",
   "execution_count": 34,
   "id": "international-advisory",
   "metadata": {},
   "outputs": [],
   "source": [
    "def regressionResults(YTrue, predictions):\n",
    "\n",
    "    # Regression metrics\n",
    "    MAE=metrics.mean_absolute_error(YTrue, predictions) \n",
    "    RMSE=metrics.mean_squared_error(YTrue, predictions, squared=False) \n",
    "    r2=metrics.r2_score(YTrue, predictions)\n",
    "\n",
    "    print('\\nR Squared: ', round(r2,4))\n",
    "    print('\\nMAE: ', round(MAE,4))\n",
    "    print('\\nRMSE: ', round(RMSE,4))\n",
    "\n",
    "\n",
    "def residualPlots(YTrue, predictions):\n",
    "\n",
    "    plt.figure(figsize=(15,10))\n",
    "\n",
    "    plt.subplot(2,2,1)\n",
    "    sb.residplot(x = predictions, y = YTrue, lowess = True, line_kws={'color':'red'})\n",
    "    plt.xlabel('Fitted Values')\n",
    "    plt.title('Residual Plot')\n",
    "\n",
    "    plt.subplot(2,2,2)\n",
    "    residuals = YTrue - predictions\n",
    "    scipy.stats.probplot(residuals, dist=\"norm\", plot=plt)\n",
    "    \n",
    "    \n",
    "    plt.subplot(2,2,3)\n",
    "    plt.scatter(YTrue, predictions)\n",
    "    plt.xlabel('Actual Labels')\n",
    "    plt.ylabel('Predicted Labels')\n",
    "\n",
    "\n",
    "    plt.show()"
   ]
  },
  {
   "cell_type": "code",
   "execution_count": 36,
   "id": "desirable-spiritual",
   "metadata": {
    "scrolled": false
   },
   "outputs": [
    {
     "name": "stdout",
     "output_type": "stream",
     "text": [
      "\n",
      "R Squared:  -0.0157\n",
      "\n",
      "MAE:  14.3449\n",
      "\n",
      "RMSE:  74.1612\n"
     ]
    },
    {
     "data": {
      "image/png": "[encoded data removed]",
      "text/plain": [
       "<Figure size 1080x720 with 3 Axes>"
      ]
     },
     "metadata": {
      "needs_background": "light"
     },
     "output_type": "display_data"
    }
   ],
   "source": [
    "regressionResults(XTest_Areas, XTest['burnpred'])\n",
    "residualPlots(XTest_Areas, XTest['burnpred'])"
   ]
  },
  {
   "cell_type": "code",
   "execution_count": null,
   "id": "romance-neighbor",
   "metadata": {},
   "outputs": [],
   "source": []
  }
 ],
 "metadata": {
  "kernelspec": {
   "display_name": "Python 3",
   "language": "python",
   "name": "python3"
  },
  "language_info": {
   "codemirror_mode": {
    "name": "ipython",
    "version": 3
   },
   "file_extension": ".py",
   "mimetype": "text/x-python",
   "name": "python",
   "nbconvert_exporter": "python",
   "pygments_lexer": "ipython3",
   "version": "3.8.8"
  }
 },
 "nbformat": 4,
 "nbformat_minor": 5
}
