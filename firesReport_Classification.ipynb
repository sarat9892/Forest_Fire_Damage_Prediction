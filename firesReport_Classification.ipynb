{
 "cells": [
  {
   "cell_type": "code",
   "execution_count": 1,
   "id": "medieval-albany",
   "metadata": {},
   "outputs": [],
   "source": [
    "%config Completer.use_jedi = False"
   ]
  },
  {
   "cell_type": "markdown",
   "id": "norman-memory",
   "metadata": {},
   "source": [
    "### Importing libraries"
   ]
  },
  {
   "cell_type": "code",
   "execution_count": 47,
   "id": "young-bidding",
   "metadata": {},
   "outputs": [],
   "source": [
    "import pandas as pd\n",
    "import matplotlib.pyplot as plt\n",
    "import numpy as np\n",
    "import itertools\n",
    "\n",
    "\n",
    "from sklearn.model_selection import train_test_split\n",
    "\n",
    "from sklearn.linear_model import LogisticRegression, SGDClassifier\n",
    "from sklearn.ensemble import RandomForestClassifier, AdaBoostClassifier, BaggingClassifier, GradientBoostingClassifier\n",
    "from sklearn.svm import SVC, LinearSVC\n",
    "from sklearn import tree\n",
    "\n",
    "from sklearn.preprocessing import StandardScaler, PowerTransformer\n",
    "\n",
    "\n",
    "from sklearn.metrics import roc_auc_score\n",
    "from sklearn.metrics import roc_curve\n",
    "from sklearn.metrics import confusion_matrix\n",
    "from sklearn.metrics import precision_score, recall_score\n",
    "from sklearn.metrics import accuracy_score\n",
    "\n",
    "\n",
    "%matplotlib inline"
   ]
  },
  {
   "cell_type": "markdown",
   "id": "usual-antibody",
   "metadata": {},
   "source": [
    "### Loading the data"
   ]
  },
  {
   "cell_type": "code",
   "execution_count": 3,
   "id": "straight-estimate",
   "metadata": {},
   "outputs": [],
   "source": [
    "rawData = pd.read_csv('./data/forestfires.csv')"
   ]
  },
  {
   "cell_type": "markdown",
   "id": "continued-currency",
   "metadata": {},
   "source": [
    "### Exploratory Analysis"
   ]
  },
  {
   "cell_type": "markdown",
   "id": "narrow-motel",
   "metadata": {},
   "source": [
    "#### Nulls"
   ]
  },
  {
   "cell_type": "code",
   "execution_count": 4,
   "id": "occupational-wellington",
   "metadata": {},
   "outputs": [
    {
     "data": {
      "text/plain": [
       "X        0\n",
       "Y        0\n",
       "month    0\n",
       "day      0\n",
       "FFMC     0\n",
       "DMC      0\n",
       "DC       0\n",
       "ISI      0\n",
       "temp     0\n",
       "RH       0\n",
       "wind     0\n",
       "rain     0\n",
       "area     0\n",
       "dtype: int64"
      ]
     },
     "execution_count": 4,
     "metadata": {},
     "output_type": "execute_result"
    }
   ],
   "source": [
    "rawData.isnull().sum()"
   ]
  },
  {
   "cell_type": "markdown",
   "id": "alternative-bulgarian",
   "metadata": {},
   "source": [
    "#### Summary"
   ]
  },
  {
   "cell_type": "code",
   "execution_count": 5,
   "id": "driving-customer",
   "metadata": {},
   "outputs": [
    {
     "data": {
      "text/html": [
       "<div>\n",
       "<style scoped>\n",
       "    .dataframe tbody tr th:only-of-type {\n",
       "        vertical-align: middle;\n",
       "    }\n",
       "\n",
       "    .dataframe tbody tr th {\n",
       "        vertical-align: top;\n",
       "    }\n",
       "\n",
       "    .dataframe thead th {\n",
       "        text-align: right;\n",
       "    }\n",
       "</style>\n",
       "<table border=\"1\" class=\"dataframe\">\n",
       "  <thead>\n",
       "    <tr style=\"text-align: right;\">\n",
       "      <th></th>\n",
       "      <th>X</th>\n",
       "      <th>Y</th>\n",
       "      <th>FFMC</th>\n",
       "      <th>DMC</th>\n",
       "      <th>DC</th>\n",
       "      <th>ISI</th>\n",
       "      <th>temp</th>\n",
       "      <th>RH</th>\n",
       "      <th>wind</th>\n",
       "      <th>rain</th>\n",
       "      <th>area</th>\n",
       "    </tr>\n",
       "  </thead>\n",
       "  <tbody>\n",
       "    <tr>\n",
       "      <th>count</th>\n",
       "      <td>517.000000</td>\n",
       "      <td>517.000000</td>\n",
       "      <td>517.000000</td>\n",
       "      <td>517.000000</td>\n",
       "      <td>517.000000</td>\n",
       "      <td>517.000000</td>\n",
       "      <td>517.000000</td>\n",
       "      <td>517.000000</td>\n",
       "      <td>517.000000</td>\n",
       "      <td>517.000000</td>\n",
       "      <td>517.000000</td>\n",
       "    </tr>\n",
       "    <tr>\n",
       "      <th>mean</th>\n",
       "      <td>4.669246</td>\n",
       "      <td>4.299807</td>\n",
       "      <td>90.644681</td>\n",
       "      <td>110.872340</td>\n",
       "      <td>547.940039</td>\n",
       "      <td>9.021663</td>\n",
       "      <td>18.889168</td>\n",
       "      <td>44.288201</td>\n",
       "      <td>4.017602</td>\n",
       "      <td>0.021663</td>\n",
       "      <td>12.847292</td>\n",
       "    </tr>\n",
       "    <tr>\n",
       "      <th>std</th>\n",
       "      <td>2.313778</td>\n",
       "      <td>1.229900</td>\n",
       "      <td>5.520111</td>\n",
       "      <td>64.046482</td>\n",
       "      <td>248.066192</td>\n",
       "      <td>4.559477</td>\n",
       "      <td>5.806625</td>\n",
       "      <td>16.317469</td>\n",
       "      <td>1.791653</td>\n",
       "      <td>0.295959</td>\n",
       "      <td>63.655818</td>\n",
       "    </tr>\n",
       "    <tr>\n",
       "      <th>min</th>\n",
       "      <td>1.000000</td>\n",
       "      <td>2.000000</td>\n",
       "      <td>18.700000</td>\n",
       "      <td>1.100000</td>\n",
       "      <td>7.900000</td>\n",
       "      <td>0.000000</td>\n",
       "      <td>2.200000</td>\n",
       "      <td>15.000000</td>\n",
       "      <td>0.400000</td>\n",
       "      <td>0.000000</td>\n",
       "      <td>0.000000</td>\n",
       "    </tr>\n",
       "    <tr>\n",
       "      <th>25%</th>\n",
       "      <td>3.000000</td>\n",
       "      <td>4.000000</td>\n",
       "      <td>90.200000</td>\n",
       "      <td>68.600000</td>\n",
       "      <td>437.700000</td>\n",
       "      <td>6.500000</td>\n",
       "      <td>15.500000</td>\n",
       "      <td>33.000000</td>\n",
       "      <td>2.700000</td>\n",
       "      <td>0.000000</td>\n",
       "      <td>0.000000</td>\n",
       "    </tr>\n",
       "    <tr>\n",
       "      <th>50%</th>\n",
       "      <td>4.000000</td>\n",
       "      <td>4.000000</td>\n",
       "      <td>91.600000</td>\n",
       "      <td>108.300000</td>\n",
       "      <td>664.200000</td>\n",
       "      <td>8.400000</td>\n",
       "      <td>19.300000</td>\n",
       "      <td>42.000000</td>\n",
       "      <td>4.000000</td>\n",
       "      <td>0.000000</td>\n",
       "      <td>0.520000</td>\n",
       "    </tr>\n",
       "    <tr>\n",
       "      <th>75%</th>\n",
       "      <td>7.000000</td>\n",
       "      <td>5.000000</td>\n",
       "      <td>92.900000</td>\n",
       "      <td>142.400000</td>\n",
       "      <td>713.900000</td>\n",
       "      <td>10.800000</td>\n",
       "      <td>22.800000</td>\n",
       "      <td>53.000000</td>\n",
       "      <td>4.900000</td>\n",
       "      <td>0.000000</td>\n",
       "      <td>6.570000</td>\n",
       "    </tr>\n",
       "    <tr>\n",
       "      <th>max</th>\n",
       "      <td>9.000000</td>\n",
       "      <td>9.000000</td>\n",
       "      <td>96.200000</td>\n",
       "      <td>291.300000</td>\n",
       "      <td>860.600000</td>\n",
       "      <td>56.100000</td>\n",
       "      <td>33.300000</td>\n",
       "      <td>100.000000</td>\n",
       "      <td>9.400000</td>\n",
       "      <td>6.400000</td>\n",
       "      <td>1090.840000</td>\n",
       "    </tr>\n",
       "  </tbody>\n",
       "</table>\n",
       "</div>"
      ],
      "text/plain": [
       "                X           Y        FFMC         DMC          DC         ISI  \\\n",
       "count  517.000000  517.000000  517.000000  517.000000  517.000000  517.000000   \n",
       "mean     4.669246    4.299807   90.644681  110.872340  547.940039    9.021663   \n",
       "std      2.313778    1.229900    5.520111   64.046482  248.066192    4.559477   \n",
       "min      1.000000    2.000000   18.700000    1.100000    7.900000    0.000000   \n",
       "25%      3.000000    4.000000   90.200000   68.600000  437.700000    6.500000   \n",
       "50%      4.000000    4.000000   91.600000  108.300000  664.200000    8.400000   \n",
       "75%      7.000000    5.000000   92.900000  142.400000  713.900000   10.800000   \n",
       "max      9.000000    9.000000   96.200000  291.300000  860.600000   56.100000   \n",
       "\n",
       "             temp          RH        wind        rain         area  \n",
       "count  517.000000  517.000000  517.000000  517.000000   517.000000  \n",
       "mean    18.889168   44.288201    4.017602    0.021663    12.847292  \n",
       "std      5.806625   16.317469    1.791653    0.295959    63.655818  \n",
       "min      2.200000   15.000000    0.400000    0.000000     0.000000  \n",
       "25%     15.500000   33.000000    2.700000    0.000000     0.000000  \n",
       "50%     19.300000   42.000000    4.000000    0.000000     0.520000  \n",
       "75%     22.800000   53.000000    4.900000    0.000000     6.570000  \n",
       "max     33.300000  100.000000    9.400000    6.400000  1090.840000  "
      ]
     },
     "execution_count": 5,
     "metadata": {},
     "output_type": "execute_result"
    }
   ],
   "source": [
    "rawData.describe()"
   ]
  },
  {
   "cell_type": "markdown",
   "id": "figured-former",
   "metadata": {},
   "source": [
    "#### Rain Column"
   ]
  },
  {
   "cell_type": "code",
   "execution_count": 6,
   "id": "explicit-crime",
   "metadata": {},
   "outputs": [
    {
     "name": "stdout",
     "output_type": "stream",
     "text": [
      "8\n"
     ]
    },
    {
     "data": {
      "text/html": [
       "<div>\n",
       "<style scoped>\n",
       "    .dataframe tbody tr th:only-of-type {\n",
       "        vertical-align: middle;\n",
       "    }\n",
       "\n",
       "    .dataframe tbody tr th {\n",
       "        vertical-align: top;\n",
       "    }\n",
       "\n",
       "    .dataframe thead th {\n",
       "        text-align: right;\n",
       "    }\n",
       "</style>\n",
       "<table border=\"1\" class=\"dataframe\">\n",
       "  <thead>\n",
       "    <tr style=\"text-align: right;\">\n",
       "      <th></th>\n",
       "      <th>X</th>\n",
       "      <th>Y</th>\n",
       "      <th>month</th>\n",
       "      <th>day</th>\n",
       "      <th>FFMC</th>\n",
       "      <th>DMC</th>\n",
       "      <th>DC</th>\n",
       "      <th>ISI</th>\n",
       "      <th>temp</th>\n",
       "      <th>RH</th>\n",
       "      <th>wind</th>\n",
       "      <th>rain</th>\n",
       "      <th>area</th>\n",
       "    </tr>\n",
       "  </thead>\n",
       "  <tbody>\n",
       "    <tr>\n",
       "      <th>3</th>\n",
       "      <td>8</td>\n",
       "      <td>6</td>\n",
       "      <td>mar</td>\n",
       "      <td>fri</td>\n",
       "      <td>91.7</td>\n",
       "      <td>33.3</td>\n",
       "      <td>77.5</td>\n",
       "      <td>9.0</td>\n",
       "      <td>8.3</td>\n",
       "      <td>97</td>\n",
       "      <td>4.0</td>\n",
       "      <td>0.2</td>\n",
       "      <td>0.00</td>\n",
       "    </tr>\n",
       "    <tr>\n",
       "      <th>243</th>\n",
       "      <td>7</td>\n",
       "      <td>4</td>\n",
       "      <td>aug</td>\n",
       "      <td>sun</td>\n",
       "      <td>91.8</td>\n",
       "      <td>175.1</td>\n",
       "      <td>700.7</td>\n",
       "      <td>13.8</td>\n",
       "      <td>21.9</td>\n",
       "      <td>73</td>\n",
       "      <td>7.6</td>\n",
       "      <td>1.0</td>\n",
       "      <td>0.00</td>\n",
       "    </tr>\n",
       "    <tr>\n",
       "      <th>286</th>\n",
       "      <td>7</td>\n",
       "      <td>6</td>\n",
       "      <td>jul</td>\n",
       "      <td>wed</td>\n",
       "      <td>91.2</td>\n",
       "      <td>183.1</td>\n",
       "      <td>437.7</td>\n",
       "      <td>12.5</td>\n",
       "      <td>12.6</td>\n",
       "      <td>90</td>\n",
       "      <td>7.6</td>\n",
       "      <td>0.2</td>\n",
       "      <td>0.00</td>\n",
       "    </tr>\n",
       "    <tr>\n",
       "      <th>499</th>\n",
       "      <td>7</td>\n",
       "      <td>5</td>\n",
       "      <td>aug</td>\n",
       "      <td>tue</td>\n",
       "      <td>96.1</td>\n",
       "      <td>181.1</td>\n",
       "      <td>671.2</td>\n",
       "      <td>14.3</td>\n",
       "      <td>27.3</td>\n",
       "      <td>63</td>\n",
       "      <td>4.9</td>\n",
       "      <td>6.4</td>\n",
       "      <td>10.82</td>\n",
       "    </tr>\n",
       "    <tr>\n",
       "      <th>500</th>\n",
       "      <td>8</td>\n",
       "      <td>6</td>\n",
       "      <td>aug</td>\n",
       "      <td>tue</td>\n",
       "      <td>96.1</td>\n",
       "      <td>181.1</td>\n",
       "      <td>671.2</td>\n",
       "      <td>14.3</td>\n",
       "      <td>21.6</td>\n",
       "      <td>65</td>\n",
       "      <td>4.9</td>\n",
       "      <td>0.8</td>\n",
       "      <td>0.00</td>\n",
       "    </tr>\n",
       "    <tr>\n",
       "      <th>501</th>\n",
       "      <td>7</td>\n",
       "      <td>5</td>\n",
       "      <td>aug</td>\n",
       "      <td>tue</td>\n",
       "      <td>96.1</td>\n",
       "      <td>181.1</td>\n",
       "      <td>671.2</td>\n",
       "      <td>14.3</td>\n",
       "      <td>21.6</td>\n",
       "      <td>65</td>\n",
       "      <td>4.9</td>\n",
       "      <td>0.8</td>\n",
       "      <td>0.00</td>\n",
       "    </tr>\n",
       "    <tr>\n",
       "      <th>502</th>\n",
       "      <td>4</td>\n",
       "      <td>4</td>\n",
       "      <td>aug</td>\n",
       "      <td>tue</td>\n",
       "      <td>96.1</td>\n",
       "      <td>181.1</td>\n",
       "      <td>671.2</td>\n",
       "      <td>14.3</td>\n",
       "      <td>20.7</td>\n",
       "      <td>69</td>\n",
       "      <td>4.9</td>\n",
       "      <td>0.4</td>\n",
       "      <td>0.00</td>\n",
       "    </tr>\n",
       "    <tr>\n",
       "      <th>509</th>\n",
       "      <td>5</td>\n",
       "      <td>4</td>\n",
       "      <td>aug</td>\n",
       "      <td>fri</td>\n",
       "      <td>91.0</td>\n",
       "      <td>166.9</td>\n",
       "      <td>752.6</td>\n",
       "      <td>7.1</td>\n",
       "      <td>21.1</td>\n",
       "      <td>71</td>\n",
       "      <td>7.6</td>\n",
       "      <td>1.4</td>\n",
       "      <td>2.17</td>\n",
       "    </tr>\n",
       "  </tbody>\n",
       "</table>\n",
       "</div>"
      ],
      "text/plain": [
       "     X  Y month  day  FFMC    DMC     DC   ISI  temp  RH  wind  rain   area\n",
       "3    8  6   mar  fri  91.7   33.3   77.5   9.0   8.3  97   4.0   0.2   0.00\n",
       "243  7  4   aug  sun  91.8  175.1  700.7  13.8  21.9  73   7.6   1.0   0.00\n",
       "286  7  6   jul  wed  91.2  183.1  437.7  12.5  12.6  90   7.6   0.2   0.00\n",
       "499  7  5   aug  tue  96.1  181.1  671.2  14.3  27.3  63   4.9   6.4  10.82\n",
       "500  8  6   aug  tue  96.1  181.1  671.2  14.3  21.6  65   4.9   0.8   0.00\n",
       "501  7  5   aug  tue  96.1  181.1  671.2  14.3  21.6  65   4.9   0.8   0.00\n",
       "502  4  4   aug  tue  96.1  181.1  671.2  14.3  20.7  69   4.9   0.4   0.00\n",
       "509  5  4   aug  fri  91.0  166.9  752.6   7.1  21.1  71   7.6   1.4   2.17"
      ]
     },
     "execution_count": 6,
     "metadata": {},
     "output_type": "execute_result"
    }
   ],
   "source": [
    "print(len(rawData[rawData['rain'] > 0]))\n",
    "\n",
    "rawData[rawData['rain'] > 0]"
   ]
  },
  {
   "cell_type": "markdown",
   "id": "nominated-vessel",
   "metadata": {},
   "source": [
    "##### Rain column is COMPLETELY useless"
   ]
  },
  {
   "cell_type": "code",
   "execution_count": 7,
   "id": "mechanical-singer",
   "metadata": {},
   "outputs": [],
   "source": [
    "rawData.drop(labels=['rain'], axis = 1, inplace=True)"
   ]
  },
  {
   "cell_type": "markdown",
   "id": "balanced-lotus",
   "metadata": {},
   "source": [
    "#### Explore distribution of area values"
   ]
  },
  {
   "cell_type": "code",
   "execution_count": 8,
   "id": "established-ethiopia",
   "metadata": {},
   "outputs": [
    {
     "data": {
      "image/png": "[encoded data removed]",
      "text/plain": [
       "<Figure size 864x576 with 2 Axes>"
      ]
     },
     "metadata": {
      "needs_background": "light"
     },
     "output_type": "display_data"
    }
   ],
   "source": [
    "# Get the variable to examine\n",
    "histData = rawData['area']\n",
    "\n",
    "meanVal = histData.mean()\n",
    "\n",
    "# Create a Figure\n",
    "plt.figure(figsize=(12,8))\n",
    "\n",
    "plt.subplot(2,1,1)\n",
    "plt.hist(histData, bins=[0, 1, 10, 20, 30, 40, 50, 60, 70, 80, 90, 100, 200])\n",
    "plt.axvline(x=meanVal, color = 'blue', linestyle='dashed', linewidth = 2)\n",
    "plt.title('Data Distribution')\n",
    "plt.xlabel('Value')\n",
    "plt.xticks(ticks=[0, 1, 10, 20, 30, 40, 50, 60, 70, 80, 90, 100, 200])\n",
    "plt.ylabel('Frequency')\n",
    "plt.grid(True)\n",
    "\n",
    "plt.subplot(2,1,2)\n",
    "plt.hist(histData, bins=[10, 20, 30, 40, 50, 60, 70, 80, 90, 100, 200])\n",
    "plt.axvline(x=meanVal, color = 'blue', linestyle='dashed', linewidth = 2)\n",
    "plt.title('Data Distribution')\n",
    "plt.xlabel('Value')\n",
    "plt.xticks(ticks=[10, 20, 30, 40, 50, 60, 70, 80, 90, 100, 200])\n",
    "plt.ylabel('Frequency')\n",
    "plt.grid(True)\n",
    "\n",
    "plt.show()"
   ]
  },
  {
   "cell_type": "markdown",
   "id": "welsh-clark",
   "metadata": {},
   "source": [
    "#### Explore the distribution of other values"
   ]
  },
  {
   "cell_type": "code",
   "execution_count": 9,
   "id": "loaded-inside",
   "metadata": {},
   "outputs": [
    {
     "name": "stdout",
     "output_type": "stream",
     "text": [
      "The number of records with zero burnt area is:  247\n",
      "The number of records with non zero burnt area is:  270\n",
      "The number of records with burnt area between 0 and 1 hectares is:  27\n"
     ]
    }
   ],
   "source": [
    "print('The number of records with zero burnt area is:  {}'\n",
    "      .format(len(rawData[rawData['area'] == 0])))\n",
    "\n",
    "print('The number of records with non zero burnt area is:  {}'\n",
    "      .format(len(rawData[rawData['area'] != 0])))\n",
    "\n",
    "print(\"The number of records with burnt area between 0 and 1 hectares is:  {}\"\n",
    "      .format(len(rawData.loc[(rawData['area'] > 0) & (rawData['area'] <= 1)])))"
   ]
  },
  {
   "cell_type": "code",
   "execution_count": 10,
   "id": "psychological-egypt",
   "metadata": {},
   "outputs": [
    {
     "name": "stdout",
     "output_type": "stream",
     "text": [
      "Burnt area more than 10 hectares is:  95\n",
      "Burnt area more than 50 hectares is:  24\n",
      "Burnt area more than 100 hectares is:  11\n",
      "Burnt area more than 200 hectares is:  5\n",
      "Burnt area more than 500 hectares is:  2\n",
      "Burnt area more than 1000 hectares is:  1\n",
      "Burnt area more than 1100 hectares is:  0\n"
     ]
    }
   ],
   "source": [
    "limits = [10, 50, 100, 200, 500, 1000, 1100]\n",
    "\n",
    "for each in limits:\n",
    "    \n",
    "    print('Burnt area more than {} hectares is:  {}'\n",
    "          .format(each, len(rawData[rawData['area'] > each])))"
   ]
  },
  {
   "cell_type": "code",
   "execution_count": 11,
   "id": "convenient-internet",
   "metadata": {},
   "outputs": [
    {
     "data": {
      "image/png": "[encoded data removed]",
      "text/plain": [
       "<Figure size 1152x720 with 4 Axes>"
      ]
     },
     "metadata": {
      "needs_background": "light"
     },
     "output_type": "display_data"
    }
   ],
   "source": [
    "plt.figure(figsize=(16, 10))\n",
    "\n",
    "plt.subplot(2, 2, 1)\n",
    "plt.hist(rawData['X'])\n",
    "plt.grid(False)\n",
    "plt.title('X')\n",
    "plt.xlabel('Value')\n",
    "plt.ylabel('Frequency')\n",
    "\n",
    "plt.subplot(2, 2, 2)\n",
    "plt.hist(rawData['Y'])\n",
    "plt.grid(False)\n",
    "plt.title('Y')\n",
    "plt.xlabel('Value')\n",
    "plt.ylabel('Frequency')\n",
    "\n",
    "plt.subplot(2, 2, 3)\n",
    "plt.hist(rawData['month'])\n",
    "plt.grid(False)\n",
    "plt.title('Month')\n",
    "plt.xlabel('Value')\n",
    "plt.ylabel('Frequency')\n",
    "\n",
    "plt.subplot(2, 2, 4)\n",
    "plt.hist(rawData['day'])\n",
    "plt.grid(False)\n",
    "plt.title('Day')\n",
    "plt.xlabel('Value')\n",
    "plt.ylabel('Frequency')\n",
    "\n",
    "\n",
    "plt.show()"
   ]
  },
  {
   "cell_type": "code",
   "execution_count": 12,
   "id": "republican-championship",
   "metadata": {},
   "outputs": [
    {
     "data": {
      "image/png": "[encoded data removed]",
      "text/plain": [
       "<Figure size 1152x720 with 3 Axes>"
      ]
     },
     "metadata": {
      "needs_background": "light"
     },
     "output_type": "display_data"
    }
   ],
   "source": [
    "plt.figure(figsize=(16, 10))\n",
    "\n",
    "plt.subplot(2, 2, 1)\n",
    "plt.hist(rawData['temp'])\n",
    "plt.grid(False)\n",
    "plt.title('Temperature')\n",
    "plt.xlabel('Value')\n",
    "plt.ylabel('Frequency')\n",
    "\n",
    "plt.subplot(2, 2, 2)\n",
    "plt.hist(rawData['RH'])\n",
    "plt.grid(False)\n",
    "plt.title('Relative Humidity')\n",
    "plt.xlabel('Value')\n",
    "plt.ylabel('Frequency')\n",
    "\n",
    "plt.subplot(2, 2, 3)\n",
    "plt.hist(rawData['wind'])\n",
    "plt.grid(False)\n",
    "plt.title('Wind')\n",
    "plt.xlabel('Value')\n",
    "plt.ylabel('Frequency')\n",
    "\n",
    "plt.show()"
   ]
  },
  {
   "cell_type": "code",
   "execution_count": 13,
   "id": "tested-riding",
   "metadata": {},
   "outputs": [
    {
     "data": {
      "image/png": "[encoded data removed]",
      "text/plain": [
       "<Figure size 1152x720 with 4 Axes>"
      ]
     },
     "metadata": {
      "needs_background": "light"
     },
     "output_type": "display_data"
    }
   ],
   "source": [
    "plt.figure(figsize=(16, 10))\n",
    "\n",
    "plt.subplot(2, 2, 1)\n",
    "plt.hist(rawData['FFMC'])\n",
    "plt.grid(False)\n",
    "plt.title('FFMC')\n",
    "plt.xlabel('Value')\n",
    "plt.ylabel('Frequency')\n",
    "\n",
    "plt.subplot(2, 2, 2)\n",
    "plt.hist(rawData['DMC'])\n",
    "plt.grid(False)\n",
    "plt.title('DMC')\n",
    "plt.xlabel('Value')\n",
    "plt.ylabel('Frequency')\n",
    "\n",
    "plt.subplot(2, 2, 3)\n",
    "plt.hist(rawData['DC'])\n",
    "plt.grid(False)\n",
    "plt.title('DC')\n",
    "plt.xlabel('Value')\n",
    "plt.ylabel('Frequency')\n",
    "\n",
    "plt.subplot(2, 2, 4)\n",
    "plt.hist(rawData['ISI'])\n",
    "plt.grid(False)\n",
    "plt.title('ISI')\n",
    "plt.xlabel('Value')\n",
    "plt.ylabel('Frequency')\n",
    "\n",
    "plt.show()"
   ]
  },
  {
   "cell_type": "code",
   "execution_count": 14,
   "id": "macro-tulsa",
   "metadata": {},
   "outputs": [
    {
     "data": {
      "text/plain": [
       "[<matplotlib.lines.Line2D at 0x1e2e4aa4fd0>]"
      ]
     },
     "execution_count": 14,
     "metadata": {},
     "output_type": "execute_result"
    },
    {
     "data": {
      "image/png": "[encoded data removed]",
      "text/plain": [
       "<Figure size 432x288 with 1 Axes>"
      ]
     },
     "metadata": {
      "needs_background": "light"
     },
     "output_type": "display_data"
    }
   ],
   "source": [
    "months = {'jan' : 0, 'feb' : 1, 'mar' : 2, 'apr' : 3, 'may' : 4, 'jun' : 5, 'jul' : 6,\n",
    "               'aug' : 7, 'sep' : 8, 'oct' : 9, 'nov' : 10, 'dec' : 11}\n",
    "\n",
    "plt.plot(rawData[['month', 'area']].groupby(by='month').agg('mean').sort_values(by='month', key = lambda x: x.map(months)))"
   ]
  },
  {
   "cell_type": "code",
   "execution_count": 15,
   "id": "inner-cocktail",
   "metadata": {},
   "outputs": [
    {
     "data": {
      "text/plain": [
       "[<matplotlib.lines.Line2D at 0x1e2e452e370>]"
      ]
     },
     "execution_count": 15,
     "metadata": {},
     "output_type": "execute_result"
    },
    {
     "data": {
      "image/png": "[encoded data removed]",
      "text/plain": [
       "<Figure size 432x288 with 1 Axes>"
      ]
     },
     "metadata": {
      "needs_background": "light"
     },
     "output_type": "display_data"
    }
   ],
   "source": [
    "months = {'mon' : 0, 'tue' : 1, 'wed' : 2, 'thu' : 3, 'fri' : 4, 'sat' : 5, 'sun' : 6}\n",
    "\n",
    "plt.plot(rawData[['day', 'area']].groupby(by='day').agg('mean').sort_values(by='day', key = lambda x: x.map(months)))"
   ]
  },
  {
   "cell_type": "markdown",
   "id": "distant-thursday",
   "metadata": {},
   "source": [
    "#### Create the Burn Flag"
   ]
  },
  {
   "cell_type": "markdown",
   "id": "union-indicator",
   "metadata": {},
   "source": [
    "##### Add a flag column\n",
    "\n",
    "##### 0 Burn = 0\n",
    "##### Non 0 burn = 1"
   ]
  },
  {
   "cell_type": "code",
   "execution_count": 16,
   "id": "amino-moses",
   "metadata": {},
   "outputs": [],
   "source": [
    "areaValues = rawData[['area']].values"
   ]
  },
  {
   "cell_type": "code",
   "execution_count": 17,
   "id": "compact-nepal",
   "metadata": {},
   "outputs": [],
   "source": [
    "areaFlag = []\n",
    "\n",
    "for each in areaValues:\n",
    "    \n",
    "    if each[0] == 0:\n",
    "        \n",
    "        areaFlag.append(0)\n",
    "        \n",
    "    else:\n",
    "        \n",
    "        areaFlag.append(1)"
   ]
  },
  {
   "cell_type": "code",
   "execution_count": 18,
   "id": "horizontal-television",
   "metadata": {},
   "outputs": [],
   "source": [
    "rawData['burn'] = areaFlag"
   ]
  },
  {
   "cell_type": "markdown",
   "id": "played-clause",
   "metadata": {},
   "source": [
    "#### Create a dataset without outliers"
   ]
  },
  {
   "cell_type": "code",
   "execution_count": 19,
   "id": "authorized-graphics",
   "metadata": {},
   "outputs": [],
   "source": [
    "thirdQuartile = rawData[['area']].describe().at['75%', 'area']\n",
    "\n",
    "firstQuartile = rawData[['area']].describe().at['25%', 'area']\n",
    "\n",
    "IQR = thirdQuartile - firstQuartile\n",
    "\n",
    "outlierLimit = 1.5 * IQR"
   ]
  },
  {
   "cell_type": "code",
   "execution_count": 20,
   "id": "acceptable-banking",
   "metadata": {},
   "outputs": [
    {
     "data": {
      "text/plain": [
       "9.855"
      ]
     },
     "execution_count": 20,
     "metadata": {},
     "output_type": "execute_result"
    }
   ],
   "source": [
    "outlierLimit"
   ]
  },
  {
   "cell_type": "code",
   "execution_count": 21,
   "id": "guilty-camping",
   "metadata": {},
   "outputs": [
    {
     "name": "stdout",
     "output_type": "stream",
     "text": [
      "97\n"
     ]
    }
   ],
   "source": [
    "print(len(rawData[rawData['area'] > outlierLimit]))"
   ]
  },
  {
   "cell_type": "code",
   "execution_count": 22,
   "id": "great-intranet",
   "metadata": {},
   "outputs": [],
   "source": [
    "cleanDF = rawData[rawData['area'] <= outlierLimit]"
   ]
  },
  {
   "cell_type": "code",
   "execution_count": 23,
   "id": "dominant-disclaimer",
   "metadata": {},
   "outputs": [
    {
     "data": {
      "text/html": [
       "<div>\n",
       "<style scoped>\n",
       "    .dataframe tbody tr th:only-of-type {\n",
       "        vertical-align: middle;\n",
       "    }\n",
       "\n",
       "    .dataframe tbody tr th {\n",
       "        vertical-align: top;\n",
       "    }\n",
       "\n",
       "    .dataframe thead th {\n",
       "        text-align: right;\n",
       "    }\n",
       "</style>\n",
       "<table border=\"1\" class=\"dataframe\">\n",
       "  <thead>\n",
       "    <tr style=\"text-align: right;\">\n",
       "      <th></th>\n",
       "      <th>X</th>\n",
       "      <th>Y</th>\n",
       "      <th>FFMC</th>\n",
       "      <th>DMC</th>\n",
       "      <th>DC</th>\n",
       "      <th>ISI</th>\n",
       "      <th>temp</th>\n",
       "      <th>RH</th>\n",
       "      <th>wind</th>\n",
       "      <th>area</th>\n",
       "      <th>burn</th>\n",
       "    </tr>\n",
       "  </thead>\n",
       "  <tbody>\n",
       "    <tr>\n",
       "      <th>count</th>\n",
       "      <td>420.000000</td>\n",
       "      <td>420.000000</td>\n",
       "      <td>420.000000</td>\n",
       "      <td>420.000000</td>\n",
       "      <td>420.000000</td>\n",
       "      <td>420.000000</td>\n",
       "      <td>420.000000</td>\n",
       "      <td>420.000000</td>\n",
       "      <td>420.000000</td>\n",
       "      <td>420.000000</td>\n",
       "      <td>420.000000</td>\n",
       "    </tr>\n",
       "    <tr>\n",
       "      <th>mean</th>\n",
       "      <td>4.611905</td>\n",
       "      <td>4.302381</td>\n",
       "      <td>90.620714</td>\n",
       "      <td>109.586190</td>\n",
       "      <td>543.507857</td>\n",
       "      <td>9.078333</td>\n",
       "      <td>18.884762</td>\n",
       "      <td>44.509524</td>\n",
       "      <td>3.948095</td>\n",
       "      <td>1.515357</td>\n",
       "      <td>0.411905</td>\n",
       "    </tr>\n",
       "    <tr>\n",
       "      <th>std</th>\n",
       "      <td>2.312021</td>\n",
       "      <td>1.253727</td>\n",
       "      <td>5.767668</td>\n",
       "      <td>62.958875</td>\n",
       "      <td>249.958323</td>\n",
       "      <td>4.634413</td>\n",
       "      <td>5.638184</td>\n",
       "      <td>16.240655</td>\n",
       "      <td>1.763383</td>\n",
       "      <td>2.486176</td>\n",
       "      <td>0.492765</td>\n",
       "    </tr>\n",
       "    <tr>\n",
       "      <th>min</th>\n",
       "      <td>1.000000</td>\n",
       "      <td>2.000000</td>\n",
       "      <td>18.700000</td>\n",
       "      <td>1.100000</td>\n",
       "      <td>7.900000</td>\n",
       "      <td>0.000000</td>\n",
       "      <td>2.200000</td>\n",
       "      <td>15.000000</td>\n",
       "      <td>0.400000</td>\n",
       "      <td>0.000000</td>\n",
       "      <td>0.000000</td>\n",
       "    </tr>\n",
       "    <tr>\n",
       "      <th>25%</th>\n",
       "      <td>3.000000</td>\n",
       "      <td>4.000000</td>\n",
       "      <td>90.200000</td>\n",
       "      <td>69.425000</td>\n",
       "      <td>436.600000</td>\n",
       "      <td>6.500000</td>\n",
       "      <td>15.575000</td>\n",
       "      <td>33.000000</td>\n",
       "      <td>2.700000</td>\n",
       "      <td>0.000000</td>\n",
       "      <td>0.000000</td>\n",
       "    </tr>\n",
       "    <tr>\n",
       "      <th>50%</th>\n",
       "      <td>4.000000</td>\n",
       "      <td>4.000000</td>\n",
       "      <td>91.650000</td>\n",
       "      <td>106.900000</td>\n",
       "      <td>658.200000</td>\n",
       "      <td>8.400000</td>\n",
       "      <td>19.200000</td>\n",
       "      <td>42.000000</td>\n",
       "      <td>4.000000</td>\n",
       "      <td>0.000000</td>\n",
       "      <td>0.000000</td>\n",
       "    </tr>\n",
       "    <tr>\n",
       "      <th>75%</th>\n",
       "      <td>6.250000</td>\n",
       "      <td>5.000000</td>\n",
       "      <td>92.800000</td>\n",
       "      <td>142.400000</td>\n",
       "      <td>713.900000</td>\n",
       "      <td>10.700000</td>\n",
       "      <td>22.800000</td>\n",
       "      <td>53.000000</td>\n",
       "      <td>4.900000</td>\n",
       "      <td>2.140000</td>\n",
       "      <td>1.000000</td>\n",
       "    </tr>\n",
       "    <tr>\n",
       "      <th>max</th>\n",
       "      <td>9.000000</td>\n",
       "      <td>9.000000</td>\n",
       "      <td>96.200000</td>\n",
       "      <td>291.300000</td>\n",
       "      <td>860.600000</td>\n",
       "      <td>56.100000</td>\n",
       "      <td>32.600000</td>\n",
       "      <td>100.000000</td>\n",
       "      <td>9.400000</td>\n",
       "      <td>9.770000</td>\n",
       "      <td>1.000000</td>\n",
       "    </tr>\n",
       "  </tbody>\n",
       "</table>\n",
       "</div>"
      ],
      "text/plain": [
       "                X           Y        FFMC         DMC          DC         ISI  \\\n",
       "count  420.000000  420.000000  420.000000  420.000000  420.000000  420.000000   \n",
       "mean     4.611905    4.302381   90.620714  109.586190  543.507857    9.078333   \n",
       "std      2.312021    1.253727    5.767668   62.958875  249.958323    4.634413   \n",
       "min      1.000000    2.000000   18.700000    1.100000    7.900000    0.000000   \n",
       "25%      3.000000    4.000000   90.200000   69.425000  436.600000    6.500000   \n",
       "50%      4.000000    4.000000   91.650000  106.900000  658.200000    8.400000   \n",
       "75%      6.250000    5.000000   92.800000  142.400000  713.900000   10.700000   \n",
       "max      9.000000    9.000000   96.200000  291.300000  860.600000   56.100000   \n",
       "\n",
       "             temp          RH        wind        area        burn  \n",
       "count  420.000000  420.000000  420.000000  420.000000  420.000000  \n",
       "mean    18.884762   44.509524    3.948095    1.515357    0.411905  \n",
       "std      5.638184   16.240655    1.763383    2.486176    0.492765  \n",
       "min      2.200000   15.000000    0.400000    0.000000    0.000000  \n",
       "25%     15.575000   33.000000    2.700000    0.000000    0.000000  \n",
       "50%     19.200000   42.000000    4.000000    0.000000    0.000000  \n",
       "75%     22.800000   53.000000    4.900000    2.140000    1.000000  \n",
       "max     32.600000  100.000000    9.400000    9.770000    1.000000  "
      ]
     },
     "execution_count": 23,
     "metadata": {},
     "output_type": "execute_result"
    }
   ],
   "source": [
    "cleanDF.describe()"
   ]
  },
  {
   "cell_type": "markdown",
   "id": "adult-coach",
   "metadata": {},
   "source": [
    "#### Train/Test split both the datasets"
   ]
  },
  {
   "cell_type": "code",
   "execution_count": 24,
   "id": "interracial-improvement",
   "metadata": {},
   "outputs": [],
   "source": [
    "X, Y = rawData[['X', 'Y', 'FFMC', 'DMC', 'DC', 'ISI', 'temp', 'RH', 'wind']], rawData[['burn']]"
   ]
  },
  {
   "cell_type": "code",
   "execution_count": 25,
   "id": "bored-flour",
   "metadata": {
    "scrolled": true
   },
   "outputs": [],
   "source": [
    "XTrain, XTest, YTrain, YTest = train_test_split(X, Y, test_size=0.20, random_state=9892)"
   ]
  },
  {
   "cell_type": "code",
   "execution_count": null,
   "id": "chubby-bhutan",
   "metadata": {},
   "outputs": [],
   "source": []
  },
  {
   "cell_type": "markdown",
   "id": "pending-prime",
   "metadata": {},
   "source": [
    "### Classifications (Transformations)"
   ]
  },
  {
   "cell_type": "code",
   "execution_count": 28,
   "id": "adequate-trauma",
   "metadata": {},
   "outputs": [],
   "source": [
    "pt = PowerTransformer()\n",
    "\n",
    "pt.fit(XTrain)\n",
    "\n",
    "XTrainPT = pt.transform(XTrain)\n",
    "\n",
    "XTrainPT = pd.DataFrame(XTrainPT, columns=['X', 'Y', 'FFMC', 'DMC', 'DC', 'ISI', 'temp', 'RH', 'wind'])"
   ]
  },
  {
   "cell_type": "code",
   "execution_count": 29,
   "id": "basic-cement",
   "metadata": {},
   "outputs": [],
   "source": [
    "XTestPT = pt.transform(XTest)\n",
    "\n",
    "XTestPT = pd.DataFrame(XTestPT, columns=['X', 'Y', 'FFMC', 'DMC', 'DC', 'ISI', 'temp', 'RH', 'wind'])"
   ]
  },
  {
   "cell_type": "code",
   "execution_count": null,
   "id": "driven-channels",
   "metadata": {},
   "outputs": [],
   "source": []
  },
  {
   "cell_type": "code",
   "execution_count": 30,
   "id": "printable-spiritual",
   "metadata": {},
   "outputs": [],
   "source": [
    "sc = StandardScaler()\n",
    "\n",
    "sc.fit(XTrain)\n",
    "\n",
    "XTrainSC = sc.transform(XTrain)\n",
    "\n",
    "XTrainSC = pd.DataFrame(XTrainSC, columns=['X', 'Y', 'FFMC', 'DMC', 'DC', 'ISI', 'temp', 'RH', 'wind'])"
   ]
  },
  {
   "cell_type": "code",
   "execution_count": 31,
   "id": "blocked-tuesday",
   "metadata": {},
   "outputs": [],
   "source": [
    "XTestSC = sc.transform(XTest)\n",
    "\n",
    "XTestSC = pd.DataFrame(XTestSC, columns=['X', 'Y', 'FFMC', 'DMC', 'DC', 'ISI', 'temp', 'RH', 'wind'])"
   ]
  },
  {
   "cell_type": "code",
   "execution_count": null,
   "id": "understood-teacher",
   "metadata": {},
   "outputs": [],
   "source": []
  },
  {
   "cell_type": "code",
   "execution_count": null,
   "id": "filled-shakespeare",
   "metadata": {},
   "outputs": [],
   "source": []
  },
  {
   "cell_type": "code",
   "execution_count": 33,
   "id": "velvet-distributor",
   "metadata": {},
   "outputs": [
    {
     "data": {
      "image/png": "[encoded data removed]",
      "text/plain": [
       "<Figure size 1152x1440 with 12 Axes>"
      ]
     },
     "metadata": {
      "needs_background": "light"
     },
     "output_type": "display_data"
    }
   ],
   "source": [
    "plt.figure(figsize=(16, 20))\n",
    "\n",
    "plt.subplot(4, 3, 1)\n",
    "plt.hist(XTrain['FFMC'])\n",
    "plt.grid(True)\n",
    "plt.title('FFMC')\n",
    "plt.xlabel('Value')\n",
    "plt.ylabel('Frequency')\n",
    "\n",
    "plt.subplot(4, 3, 2)\n",
    "plt.hist(XTrainPT['FFMC'])\n",
    "plt.grid(True)\n",
    "plt.title('FFMC')\n",
    "plt.xlabel('Value')\n",
    "plt.ylabel('Frequency')\n",
    "\n",
    "plt.subplot(4, 3, 3)\n",
    "plt.hist(XTrainSC['FFMC'])\n",
    "plt.grid(True)\n",
    "plt.title('FFMC')\n",
    "plt.xlabel('Value')\n",
    "plt.ylabel('Frequency')\n",
    "\n",
    "\n",
    "plt.subplot(4, 3, 4)\n",
    "plt.hist(XTrain['DMC'])\n",
    "plt.grid(True)\n",
    "plt.title('DMC')\n",
    "plt.xlabel('Value')\n",
    "plt.ylabel('Frequency')\n",
    "\n",
    "plt.subplot(4, 3, 5)\n",
    "plt.hist(XTrainPT['DMC'])\n",
    "plt.grid(True)\n",
    "plt.title('DMC')\n",
    "plt.xlabel('Value')\n",
    "plt.ylabel('Frequency')\n",
    "\n",
    "plt.subplot(4, 3, 6)\n",
    "plt.hist(XTrainSC['DMC'])\n",
    "plt.grid(True)\n",
    "plt.title('DMC')\n",
    "plt.xlabel('Value')\n",
    "plt.ylabel('Frequency')\n",
    "\n",
    "\n",
    "plt.subplot(4, 3, 7)\n",
    "plt.hist(XTrain['DC'])\n",
    "plt.grid(True)\n",
    "plt.title('DC')\n",
    "plt.xlabel('Value')\n",
    "plt.ylabel('Frequency')\n",
    "\n",
    "plt.subplot(4, 3, 8)\n",
    "plt.hist(XTrainPT['DC'])\n",
    "plt.grid(True)\n",
    "plt.title('DC')\n",
    "plt.xlabel('Value')\n",
    "plt.ylabel('Frequency')\n",
    "\n",
    "plt.subplot(4, 3, 9)\n",
    "plt.hist(XTrainSC['DC'])\n",
    "plt.grid(True)\n",
    "plt.title('DC')\n",
    "plt.xlabel('Value')\n",
    "plt.ylabel('Frequency')\n",
    "\n",
    "\n",
    "plt.subplot(4, 3, 10)\n",
    "plt.hist(XTrain['ISI'])\n",
    "plt.grid(True)\n",
    "plt.title('ISI')\n",
    "plt.xlabel('Value')\n",
    "plt.ylabel('Frequency')\n",
    "\n",
    "plt.subplot(4, 3, 11)\n",
    "plt.hist(XTrainPT['ISI'])\n",
    "plt.grid(True)\n",
    "plt.title('ISI')\n",
    "plt.xlabel('Value')\n",
    "plt.ylabel('Frequency')\n",
    "\n",
    "plt.subplot(4, 3, 12)\n",
    "plt.hist(XTrainSC['ISI'])\n",
    "plt.grid(True)\n",
    "plt.title('ISI')\n",
    "plt.xlabel('Value')\n",
    "plt.ylabel('Frequency')\n",
    "\n",
    "\n",
    "plt.show()"
   ]
  },
  {
   "cell_type": "code",
   "execution_count": null,
   "id": "adult-condition",
   "metadata": {},
   "outputs": [],
   "source": []
  },
  {
   "cell_type": "code",
   "execution_count": null,
   "id": "streaming-carolina",
   "metadata": {},
   "outputs": [],
   "source": []
  },
  {
   "cell_type": "code",
   "execution_count": 30,
   "id": "psychological-raising",
   "metadata": {},
   "outputs": [
    {
     "name": "stdout",
     "output_type": "stream",
     "text": [
      "Training Set: 413 rows\n",
      "\n",
      "Test Set: 104 rows\n"
     ]
    }
   ],
   "source": [
    "print ('Training Set: {} rows\\n\\nTest Set: {} rows'.format(XTrain.shape[0], XTest.shape[0]))"
   ]
  },
  {
   "cell_type": "markdown",
   "id": "listed-button",
   "metadata": {},
   "source": [
    "### Classification"
   ]
  },
  {
   "cell_type": "markdown",
   "id": "sound-humidity",
   "metadata": {},
   "source": [
    "#### Try a bunch of different models (Play with parameters and pick best one)"
   ]
  },
  {
   "cell_type": "code",
   "execution_count": 42,
   "id": "inner-luxury",
   "metadata": {},
   "outputs": [],
   "source": [
    "def evaluateModel(model, XTest, YTest):\n",
    "    \n",
    "    prediction = None\n",
    "    predictions = model.predict(XTest)\n",
    "\n",
    "    print('Accuracy: ', accuracy_score(YTest, predictions))\n",
    "    print(\"Precision:\",precision_score(YTest, predictions))\n",
    "    print(\"Recall:\",recall_score(YTest, predictions))"
   ]
  },
  {
   "cell_type": "code",
   "execution_count": 44,
   "id": "functional-sunday",
   "metadata": {},
   "outputs": [],
   "source": [
    "def confusionMatrix(model, XTest, YTest):\n",
    "\n",
    "    prediction = None\n",
    "    predictions = model.predict(XTest)\n",
    "\n",
    "\n",
    "    # Print the confusion matrix\n",
    "    cm = confusion_matrix(YTest, predictions)\n",
    "\n",
    "    plt.figure(figsize=(8, 8))\n",
    "    plt.imshow(cm, interpolation='nearest', cmap=plt.cm.Blues)\n",
    "    plt.title(\"Confusion matrix\", fontsize = 20)\n",
    "    plt.colorbar()\n",
    "\n",
    "    classNames = ['no burn', 'burn']\n",
    "\n",
    "    tick_marks = np.arange(len(classNames))\n",
    "\n",
    "    plt.xticks(tick_marks, classNames, fontsize = 20)\n",
    "    plt.yticks(tick_marks, classNames, fontsize = 20)\n",
    "\n",
    "    # Compute the labels from the normalized confusion matrix.\n",
    "    labels = np.around(cm.astype('int'))\n",
    "\n",
    "    # Use white text if squares are dark; otherwise black.\n",
    "    threshold = cm.max() / 2.\n",
    "\n",
    "    for i, j in itertools.product(range(cm.shape[0]), range(cm.shape[1])):\n",
    "      color = \"white\" if cm[i, j] > threshold else \"black\"\n",
    "      plt.text(j, i, labels[i, j], horizontalalignment=\"center\", color=color, fontsize = 20)\n",
    "\n",
    "    plt.tight_layout()\n",
    "    plt.ylabel('True label', fontsize = 20)\n",
    "    plt.xlabel('Predicted label', fontsize = 20)\n",
    "    plt.show()"
   ]
  },
  {
   "cell_type": "code",
   "execution_count": 54,
   "id": "racial-senior",
   "metadata": {},
   "outputs": [],
   "source": [
    "def ROCCurve(model, XTest, YTest):\n",
    "\n",
    "    YScores = model.predict_proba(XTest)\n",
    "\n",
    "    # calculate ROC curve\n",
    "    fpr, tpr, thresholds = roc_curve(YTest, YScores[:,1])\n",
    "\n",
    "    # plot ROC curve\n",
    "    fig = plt.figure(figsize=(9, 9))\n",
    "    # Plot the diagonal 50% line\n",
    "    plt.plot([0, 1], [0, 1], 'k--')\n",
    "    # Plot the FPR and TPR achieved by our model\n",
    "    plt.plot(fpr, tpr)\n",
    "    plt.xlabel('False Positive Rate', fontsize = 20)\n",
    "    plt.ylabel('True Positive Rate', fontsize = 20)\n",
    "    plt.title('ROC Curve', fontsize = 20)\n",
    "    plt.show()\n",
    "\n",
    "    auc = roc_auc_score(YTest,YScores[:,1])\n",
    "    print('\\nAUC: ' + str(auc))"
   ]
  },
  {
   "cell_type": "markdown",
   "id": "capable-induction",
   "metadata": {},
   "source": [
    "### Logistic Regression"
   ]
  },
  {
   "cell_type": "code",
   "execution_count": 55,
   "id": "vietnamese-original",
   "metadata": {
    "scrolled": false
   },
   "outputs": [
    {
     "name": "stdout",
     "output_type": "stream",
     "text": [
      "LogisticRegression(C=10000.0, solver='liblinear') \n",
      "\n",
      "Accuracy:  0.5096153846153846\n",
      "Precision: 0.5205479452054794\n",
      "Recall: 0.7037037037037037\n"
     ]
    },
    {
     "data": {
      "image/png": "[encoded data removed]",
      "text/plain": [
       "<Figure size 576x576 with 2 Axes>"
      ]
     },
     "metadata": {
      "needs_background": "light"
     },
     "output_type": "display_data"
    },
    {
     "data": {
      "image/png": "[encoded data removed]",
      "text/plain": [
       "<Figure size 648x648 with 1 Axes>"
      ]
     },
     "metadata": {
      "needs_background": "light"
     },
     "output_type": "display_data"
    },
    {
     "name": "stdout",
     "output_type": "stream",
     "text": [
      "\n",
      "AUC: 0.5151851851851852\n"
     ]
    }
   ],
   "source": [
    "# Set regularization rate\n",
    "reg = 0.0001\n",
    "\n",
    "# train a logistic regression model on the training set\n",
    "model = LogisticRegression(C=1/reg, solver=\"liblinear\").fit(XTrain, YTrain['burn'])\n",
    "print (model, '\\n')\n",
    "\n",
    "evaluateModel(model, XTest, YTest)\n",
    "confusionMatrix(model, XTest, YTest)\n",
    "ROCCurve(model, XTest, YTest)"
   ]
  },
  {
   "cell_type": "markdown",
   "id": "copyrighted-integer",
   "metadata": {},
   "source": [
    "### SVC"
   ]
  },
  {
   "cell_type": "code",
   "execution_count": 56,
   "id": "opposed-subscription",
   "metadata": {},
   "outputs": [
    {
     "name": "stdout",
     "output_type": "stream",
     "text": [
      "SVC(C=100.0, probability=True)\n",
      "\n",
      "\n",
      "Accuracy:  0.5673076923076923\n",
      "Precision: 0.56\n",
      "Recall: 0.7777777777777778\n"
     ]
    },
    {
     "data": {
      "image/png": "[encoded data removed]",
      "text/plain": [
       "<Figure size 576x576 with 2 Axes>"
      ]
     },
     "metadata": {
      "needs_background": "light"
     },
     "output_type": "display_data"
    },
    {
     "data": {
      "image/png": "[encoded data removed]",
      "text/plain": [
       "<Figure size 648x648 with 1 Axes>"
      ]
     },
     "metadata": {
      "needs_background": "light"
     },
     "output_type": "display_data"
    },
    {
     "name": "stdout",
     "output_type": "stream",
     "text": [
      "\n",
      "AUC: 0.5394444444444444\n"
     ]
    }
   ],
   "source": [
    "# Set regularization rate\n",
    "reg = 0.01\n",
    "\n",
    "model = None\n",
    "# train a logistic regression model on the training set\n",
    "model = SVC(C=1/reg, probability=True).fit(XTrain, YTrain['burn'])\n",
    "print (model)\n",
    "print('\\n')\n",
    "\n",
    "evaluateModel(model, XTest, YTest)\n",
    "confusionMatrix(model, XTest, YTest)\n",
    "ROCCurve(model, XTest, YTest)"
   ]
  },
  {
   "cell_type": "code",
   "execution_count": null,
   "id": "deluxe-christopher",
   "metadata": {},
   "outputs": [],
   "source": []
  },
  {
   "cell_type": "code",
   "execution_count": null,
   "id": "approximate-detail",
   "metadata": {},
   "outputs": [],
   "source": []
  },
  {
   "cell_type": "code",
   "execution_count": null,
   "id": "discrete-vulnerability",
   "metadata": {},
   "outputs": [],
   "source": []
  },
  {
   "cell_type": "code",
   "execution_count": null,
   "id": "smaller-spirit",
   "metadata": {},
   "outputs": [],
   "source": []
  },
  {
   "cell_type": "code",
   "execution_count": null,
   "id": "suited-concert",
   "metadata": {},
   "outputs": [],
   "source": []
  },
  {
   "cell_type": "code",
   "execution_count": null,
   "id": "institutional-mexican",
   "metadata": {},
   "outputs": [],
   "source": []
  },
  {
   "cell_type": "code",
   "execution_count": null,
   "id": "compact-niagara",
   "metadata": {},
   "outputs": [],
   "source": []
  },
  {
   "cell_type": "code",
   "execution_count": null,
   "id": "medium-newport",
   "metadata": {},
   "outputs": [],
   "source": []
  },
  {
   "cell_type": "code",
   "execution_count": null,
   "id": "former-australian",
   "metadata": {},
   "outputs": [],
   "source": []
  },
  {
   "cell_type": "code",
   "execution_count": null,
   "id": "permanent-accuracy",
   "metadata": {},
   "outputs": [],
   "source": []
  },
  {
   "cell_type": "code",
   "execution_count": null,
   "id": "organic-server",
   "metadata": {},
   "outputs": [],
   "source": [
    "pca = None\n",
    "pca = PCA() # estimate only 2 PCs"
   ]
  },
  {
   "cell_type": "code",
   "execution_count": null,
   "id": "perceived-activation",
   "metadata": {},
   "outputs": [],
   "source": [
    "X_new = pca.fit_transform(XTrain) # project the original data into the PCA space"
   ]
  },
  {
   "cell_type": "code",
   "execution_count": null,
   "id": "awful-fusion",
   "metadata": {},
   "outputs": [],
   "source": [
    "X_new = pd.DataFrame(X_new)"
   ]
  },
  {
   "cell_type": "code",
   "execution_count": null,
   "id": "imperial-fifth",
   "metadata": {},
   "outputs": [],
   "source": [
    "plt.scatter(X_new[:,0], X_new[:,1], c=Y)\n",
    "plt.show()"
   ]
  },
  {
   "cell_type": "code",
   "execution_count": null,
   "id": "intellectual-throat",
   "metadata": {},
   "outputs": [],
   "source": []
  },
  {
   "cell_type": "code",
   "execution_count": null,
   "id": "killing-knitting",
   "metadata": {},
   "outputs": [],
   "source": [
    "pca = None\n",
    "pca = PCA(n_components=2) # estimate only 2 PCs"
   ]
  },
  {
   "cell_type": "code",
   "execution_count": null,
   "id": "charming-bible",
   "metadata": {},
   "outputs": [],
   "source": [
    "X_ScaleNew = pca.fit_transform(X_scaled) # project the original data into the PCA space"
   ]
  },
  {
   "cell_type": "code",
   "execution_count": null,
   "id": "favorite-seeking",
   "metadata": {},
   "outputs": [],
   "source": [
    "X_ScaleNew = pd.DataFrame(X_ScaleNew)"
   ]
  },
  {
   "cell_type": "code",
   "execution_count": null,
   "id": "plain-attachment",
   "metadata": {},
   "outputs": [],
   "source": [
    "pca.explained_variance_ratio_"
   ]
  },
  {
   "cell_type": "code",
   "execution_count": null,
   "id": "registered-roots",
   "metadata": {},
   "outputs": [],
   "source": [
    "pca = None\n",
    "pca = PCA(n_components=2) # estimate only 2 PCs"
   ]
  },
  {
   "cell_type": "code",
   "execution_count": null,
   "id": "deadly-arrangement",
   "metadata": {},
   "outputs": [],
   "source": [
    "X_PTNew = pca.fit_transform(XTrainPTDF) # project the original data into the PCA space"
   ]
  },
  {
   "cell_type": "code",
   "execution_count": null,
   "id": "amended-killing",
   "metadata": {},
   "outputs": [],
   "source": [
    "plt.scatter(X_PTNew[:,0], X_PTNew[:,1], c=YTrain)\n",
    "plt.show()"
   ]
  },
  {
   "cell_type": "code",
   "execution_count": null,
   "id": "seven-stanley",
   "metadata": {},
   "outputs": [],
   "source": [
    "pca.explained_variance_ratio_"
   ]
  },
  {
   "cell_type": "code",
   "execution_count": null,
   "id": "appropriate-victoria",
   "metadata": {},
   "outputs": [],
   "source": [
    "model = None\n",
    "model = LinearDiscriminantAnalysis()"
   ]
  },
  {
   "cell_type": "code",
   "execution_count": null,
   "id": "informational-inquiry",
   "metadata": {},
   "outputs": [],
   "source": [
    "model.fit(X_ScaleNew, YTrain)"
   ]
  },
  {
   "cell_type": "code",
   "execution_count": null,
   "id": "racial-drain",
   "metadata": {},
   "outputs": [],
   "source": [
    "XTest_new = pca.transform(XTest)"
   ]
  },
  {
   "cell_type": "code",
   "execution_count": null,
   "id": "statutory-assembly",
   "metadata": {},
   "outputs": [],
   "source": [
    "model.score(XTest_new, YTest)"
   ]
  },
  {
   "cell_type": "code",
   "execution_count": null,
   "id": "sexual-guyana",
   "metadata": {},
   "outputs": [],
   "source": [
    "predictions = model.predict(XTest_new)"
   ]
  },
  {
   "cell_type": "code",
   "execution_count": null,
   "id": "dress-multiple",
   "metadata": {},
   "outputs": [],
   "source": [
    "print('Accuracy: ', accuracy_score(YTest, predictions))"
   ]
  },
  {
   "cell_type": "code",
   "execution_count": null,
   "id": "surgical-qatar",
   "metadata": {},
   "outputs": [],
   "source": [
    "print(\"Overall Precision:\",precision_score(YTest, predictions))\n",
    "print(\"Overall Recall:\",recall_score(YTest, predictions))"
   ]
  },
  {
   "cell_type": "code",
   "execution_count": null,
   "id": "saved-tunisia",
   "metadata": {},
   "outputs": [],
   "source": [
    "# Print the confusion matrix\n",
    "cm = confusion_matrix(YTest, predictions)\n",
    "print (cm)"
   ]
  },
  {
   "cell_type": "code",
   "execution_count": null,
   "id": "reliable-payment",
   "metadata": {},
   "outputs": [],
   "source": [
    "YScores = model.predict_proba(XTest_new)\n",
    "\n",
    "\n",
    "%matplotlib inline\n",
    "\n",
    "# calculate ROC curve\n",
    "fpr, tpr, thresholds = roc_curve(YTest, YScores[:,1])\n",
    "\n",
    "# plot ROC curve\n",
    "fig = plt.figure(figsize=(6, 6))\n",
    "# Plot the diagonal 50% line\n",
    "plt.plot([0, 1], [0, 1], 'k--')\n",
    "# Plot the FPR and TPR achieved by our model\n",
    "plt.plot(fpr, tpr)\n",
    "plt.xlabel('False Positive Rate')\n",
    "plt.ylabel('True Positive Rate')\n",
    "plt.title('ROC Curve')\n",
    "plt.show()"
   ]
  },
  {
   "cell_type": "code",
   "execution_count": null,
   "id": "sonic-fifth",
   "metadata": {},
   "outputs": [],
   "source": [
    "auc = roc_auc_score(YTest,YScores[:,1])\n",
    "print('AUC: ' + str(auc))"
   ]
  },
  {
   "cell_type": "code",
   "execution_count": null,
   "id": "earlier-arlington",
   "metadata": {},
   "outputs": [],
   "source": []
  },
  {
   "cell_type": "code",
   "execution_count": null,
   "id": "medieval-lemon",
   "metadata": {},
   "outputs": [],
   "source": []
  },
  {
   "cell_type": "code",
   "execution_count": null,
   "id": "patient-editor",
   "metadata": {},
   "outputs": [],
   "source": []
  },
  {
   "cell_type": "code",
   "execution_count": null,
   "id": "charitable-pixel",
   "metadata": {},
   "outputs": [],
   "source": []
  },
  {
   "cell_type": "code",
   "execution_count": null,
   "id": "artificial-declaration",
   "metadata": {},
   "outputs": [],
   "source": []
  },
  {
   "cell_type": "code",
   "execution_count": null,
   "id": "tired-spiritual",
   "metadata": {},
   "outputs": [],
   "source": []
  },
  {
   "cell_type": "code",
   "execution_count": null,
   "id": "animal-wound",
   "metadata": {},
   "outputs": [],
   "source": []
  },
  {
   "cell_type": "code",
   "execution_count": null,
   "id": "ranging-marketing",
   "metadata": {},
   "outputs": [],
   "source": []
  },
  {
   "cell_type": "code",
   "execution_count": null,
   "id": "weird-driving",
   "metadata": {},
   "outputs": [],
   "source": []
  },
  {
   "cell_type": "code",
   "execution_count": null,
   "id": "nuclear-cardiff",
   "metadata": {},
   "outputs": [],
   "source": []
  },
  {
   "cell_type": "code",
   "execution_count": null,
   "id": "committed-portal",
   "metadata": {},
   "outputs": [],
   "source": []
  },
  {
   "cell_type": "code",
   "execution_count": null,
   "id": "demographic-uncle",
   "metadata": {},
   "outputs": [],
   "source": []
  },
  {
   "cell_type": "code",
   "execution_count": null,
   "id": "brief-louis",
   "metadata": {},
   "outputs": [],
   "source": []
  },
  {
   "cell_type": "code",
   "execution_count": null,
   "id": "checked-enforcement",
   "metadata": {},
   "outputs": [],
   "source": []
  }
 ],
 "metadata": {
  "kernelspec": {
   "display_name": "Python 3",
   "language": "python",
   "name": "python3"
  },
  "language_info": {
   "codemirror_mode": {
    "name": "ipython",
    "version": 3
   },
   "file_extension": ".py",
   "mimetype": "text/x-python",
   "name": "python",
   "nbconvert_exporter": "python",
   "pygments_lexer": "ipython3",
   "version": "3.8.8"
  }
 },
 "nbformat": 4,
 "nbformat_minor": 5
}
